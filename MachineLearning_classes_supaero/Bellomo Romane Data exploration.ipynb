{
 "cells": [
  {
   "cell_type": "markdown",
   "id": "10f850c4",
   "metadata": {},
   "source": [
    "# Evaluation\n",
    "\n",
    "## Pre-requisites:\n",
    "\n",
    "- Having a working environment\n",
    "\n",
    "\n",
    "## Main task:\n",
    "\n",
    "For this evaluation we expect you to provide us a jupyter notebook (firstname_name.ipynb) which includes:\n",
    "\n",
    "- Your name & first name\n",
    "- A title: \"Data Exploration: Evaluation\"\n",
    "- A part \"Load and Explore Dataset\" which includes codes and markdown doing as the title suggest (N.B: this dataset is for a classification task, so the exploration should include  a quick analysis on class repartition)\n",
    "- A part \"Simple processing\" which includes some basic pre-processing and comments: keep only numbers features, remove NaN values, separate inputs and targets data\n",
    "- A part \"Train and Evaluate SVM\" which should include the training of a Support Vector Machine (SVM) model  and the evaluation of its performance (since its a classification task you might be interested to look for confusion matrix in addition to accuracy)\n",
    "\n",
    "To summarize, you should approximately do as in the first part of the data exploration lab. With a bit more of exploration and analysis of the target.\n",
    "\n",
    "\n",
    "Your grade will be based on:\n",
    "\n",
    "- The usage of headers and clear markdown comment.\n",
    "- The code readability.\n",
    "- The usage of smart variables name.\n",
    "- The usage of existing built-in methods and function from pandas, sklearn and numpy.\n",
    "- The presence and pertinence of visualizations.\n",
    "- Insightful comments and analysis towards your code (like: \"There is four diffrent types of data: int, date, str. Therefore, we will make the choice to only keep numbers features because...\")\n",
    "\n",
    "\n",
    "**N.B**: This is a difficult dataset so do not worry (except if you want to spend more time on it) if you don't have over 30% of accuracy\n",
    "\n",
    "## Contacts: \n",
    "\n",
    "- antonin.poche@irt-saintexupery.com \n",
    "- mouhcine.mendil@irt-saintexupery.com  \n",
    "- lucas.hervier@irt-saintexupery.com"
   ]
  },
  {
   "cell_type": "markdown",
   "id": "8d53b74c",
   "metadata": {},
   "source": [
    "<h1  style = \"font-size:40px;background-color: Black ; color : White; text-align: center; border-radius: 20px 20px;\">Mise en place : téléchargement des libraries et importation du dataset</h1>"
   ]
  },
  {
   "cell_type": "code",
   "execution_count": 55,
   "id": "793c7e84",
   "metadata": {},
   "outputs": [],
   "source": [
    "# Librairies basiques de python\n",
    "from typing import Callable, Dict, List, Optional, Tuple, Union\n",
    "\n",
    "# Importation des librairies de machine learning\n",
    "import matplotlib.pyplot as plt\n",
    "import numpy as np\n",
    "import pandas as pd\n",
    "import sklearn\n",
    "import seaborn as sns\n",
    "\n",
    "from sklearn.model_selection import train_test_split\n",
    "from sklearn.svm import SVC\n",
    "from sklearn.metrics import accuracy_score\n",
    "from sklearn.multiclass import OneVsRestClassifier\n",
    "from sklearn.model_selection import GridSearchCV\n",
    "from sklearn.multiclass import OneVsOneClassifier\n",
    "from sklearn.decomposition import PCA\n"
   ]
  },
  {
   "cell_type": "code",
   "execution_count": 56,
   "id": "1d5bf11f",
   "metadata": {},
   "outputs": [
    {
     "data": {
      "text/html": [
       "<div>\n",
       "<style scoped>\n",
       "    .dataframe tbody tr th:only-of-type {\n",
       "        vertical-align: middle;\n",
       "    }\n",
       "\n",
       "    .dataframe tbody tr th {\n",
       "        vertical-align: top;\n",
       "    }\n",
       "\n",
       "    .dataframe thead th {\n",
       "        text-align: right;\n",
       "    }\n",
       "</style>\n",
       "<table border=\"1\" class=\"dataframe\">\n",
       "  <thead>\n",
       "    <tr style=\"text-align: right;\">\n",
       "      <th></th>\n",
       "      <th>Artist Name</th>\n",
       "      <th>Track Name</th>\n",
       "      <th>Popularity</th>\n",
       "      <th>danceability</th>\n",
       "      <th>energy</th>\n",
       "      <th>key</th>\n",
       "      <th>loudness</th>\n",
       "      <th>mode</th>\n",
       "      <th>speechiness</th>\n",
       "      <th>acousticness</th>\n",
       "      <th>instrumentalness</th>\n",
       "      <th>liveness</th>\n",
       "      <th>valence</th>\n",
       "      <th>tempo</th>\n",
       "      <th>duration_in min/ms</th>\n",
       "      <th>time_signature</th>\n",
       "      <th>Class</th>\n",
       "    </tr>\n",
       "  </thead>\n",
       "  <tbody>\n",
       "    <tr>\n",
       "      <th>0</th>\n",
       "      <td>Bruno Mars</td>\n",
       "      <td>That's What I Like (feat. Gucci Mane)</td>\n",
       "      <td>60.0</td>\n",
       "      <td>0.854</td>\n",
       "      <td>0.564</td>\n",
       "      <td>1.0</td>\n",
       "      <td>-4.964</td>\n",
       "      <td>1</td>\n",
       "      <td>0.0485</td>\n",
       "      <td>0.017100</td>\n",
       "      <td>NaN</td>\n",
       "      <td>0.0849</td>\n",
       "      <td>0.8990</td>\n",
       "      <td>134.071</td>\n",
       "      <td>234596.0</td>\n",
       "      <td>4</td>\n",
       "      <td>5</td>\n",
       "    </tr>\n",
       "    <tr>\n",
       "      <th>1</th>\n",
       "      <td>Boston</td>\n",
       "      <td>Hitch a Ride</td>\n",
       "      <td>54.0</td>\n",
       "      <td>0.382</td>\n",
       "      <td>0.814</td>\n",
       "      <td>3.0</td>\n",
       "      <td>-7.230</td>\n",
       "      <td>1</td>\n",
       "      <td>0.0406</td>\n",
       "      <td>0.001100</td>\n",
       "      <td>0.004010</td>\n",
       "      <td>0.1010</td>\n",
       "      <td>0.5690</td>\n",
       "      <td>116.454</td>\n",
       "      <td>251733.0</td>\n",
       "      <td>4</td>\n",
       "      <td>10</td>\n",
       "    </tr>\n",
       "    <tr>\n",
       "      <th>2</th>\n",
       "      <td>The Raincoats</td>\n",
       "      <td>No Side to Fall In</td>\n",
       "      <td>35.0</td>\n",
       "      <td>0.434</td>\n",
       "      <td>0.614</td>\n",
       "      <td>6.0</td>\n",
       "      <td>-8.334</td>\n",
       "      <td>1</td>\n",
       "      <td>0.0525</td>\n",
       "      <td>0.486000</td>\n",
       "      <td>0.000196</td>\n",
       "      <td>0.3940</td>\n",
       "      <td>0.7870</td>\n",
       "      <td>147.681</td>\n",
       "      <td>109667.0</td>\n",
       "      <td>4</td>\n",
       "      <td>6</td>\n",
       "    </tr>\n",
       "    <tr>\n",
       "      <th>3</th>\n",
       "      <td>Deno</td>\n",
       "      <td>Lingo (feat. J.I &amp; Chunkz)</td>\n",
       "      <td>66.0</td>\n",
       "      <td>0.853</td>\n",
       "      <td>0.597</td>\n",
       "      <td>10.0</td>\n",
       "      <td>-6.528</td>\n",
       "      <td>0</td>\n",
       "      <td>0.0555</td>\n",
       "      <td>0.021200</td>\n",
       "      <td>NaN</td>\n",
       "      <td>0.1220</td>\n",
       "      <td>0.5690</td>\n",
       "      <td>107.033</td>\n",
       "      <td>173968.0</td>\n",
       "      <td>4</td>\n",
       "      <td>5</td>\n",
       "    </tr>\n",
       "    <tr>\n",
       "      <th>4</th>\n",
       "      <td>Red Hot Chili Peppers</td>\n",
       "      <td>Nobody Weird Like Me - Remastered</td>\n",
       "      <td>53.0</td>\n",
       "      <td>0.167</td>\n",
       "      <td>0.975</td>\n",
       "      <td>2.0</td>\n",
       "      <td>-4.279</td>\n",
       "      <td>1</td>\n",
       "      <td>0.2160</td>\n",
       "      <td>0.000169</td>\n",
       "      <td>0.016100</td>\n",
       "      <td>0.1720</td>\n",
       "      <td>0.0918</td>\n",
       "      <td>199.060</td>\n",
       "      <td>229960.0</td>\n",
       "      <td>4</td>\n",
       "      <td>10</td>\n",
       "    </tr>\n",
       "    <tr>\n",
       "      <th>...</th>\n",
       "      <td>...</td>\n",
       "      <td>...</td>\n",
       "      <td>...</td>\n",
       "      <td>...</td>\n",
       "      <td>...</td>\n",
       "      <td>...</td>\n",
       "      <td>...</td>\n",
       "      <td>...</td>\n",
       "      <td>...</td>\n",
       "      <td>...</td>\n",
       "      <td>...</td>\n",
       "      <td>...</td>\n",
       "      <td>...</td>\n",
       "      <td>...</td>\n",
       "      <td>...</td>\n",
       "      <td>...</td>\n",
       "      <td>...</td>\n",
       "    </tr>\n",
       "    <tr>\n",
       "      <th>17991</th>\n",
       "      <td>Green-House</td>\n",
       "      <td>Find Home</td>\n",
       "      <td>35.0</td>\n",
       "      <td>0.166</td>\n",
       "      <td>0.109</td>\n",
       "      <td>7.0</td>\n",
       "      <td>-17.100</td>\n",
       "      <td>0</td>\n",
       "      <td>0.0413</td>\n",
       "      <td>0.993000</td>\n",
       "      <td>0.824000</td>\n",
       "      <td>0.0984</td>\n",
       "      <td>0.1770</td>\n",
       "      <td>171.587</td>\n",
       "      <td>193450.0</td>\n",
       "      <td>3</td>\n",
       "      <td>6</td>\n",
       "    </tr>\n",
       "    <tr>\n",
       "      <th>17992</th>\n",
       "      <td>Micatone</td>\n",
       "      <td>All Gone</td>\n",
       "      <td>27.0</td>\n",
       "      <td>0.638</td>\n",
       "      <td>0.223</td>\n",
       "      <td>11.0</td>\n",
       "      <td>-10.174</td>\n",
       "      <td>0</td>\n",
       "      <td>0.0329</td>\n",
       "      <td>0.858000</td>\n",
       "      <td>0.000016</td>\n",
       "      <td>0.0705</td>\n",
       "      <td>0.3350</td>\n",
       "      <td>73.016</td>\n",
       "      <td>257067.0</td>\n",
       "      <td>4</td>\n",
       "      <td>2</td>\n",
       "    </tr>\n",
       "    <tr>\n",
       "      <th>17993</th>\n",
       "      <td>Smash Hit Combo</td>\n",
       "      <td>Peine perdue</td>\n",
       "      <td>34.0</td>\n",
       "      <td>0.558</td>\n",
       "      <td>0.981</td>\n",
       "      <td>4.0</td>\n",
       "      <td>-4.683</td>\n",
       "      <td>0</td>\n",
       "      <td>0.0712</td>\n",
       "      <td>0.000030</td>\n",
       "      <td>0.000136</td>\n",
       "      <td>0.6660</td>\n",
       "      <td>0.2620</td>\n",
       "      <td>105.000</td>\n",
       "      <td>216222.0</td>\n",
       "      <td>4</td>\n",
       "      <td>8</td>\n",
       "    </tr>\n",
       "    <tr>\n",
       "      <th>17994</th>\n",
       "      <td>Beherit</td>\n",
       "      <td>Salomon's Gate</td>\n",
       "      <td>29.0</td>\n",
       "      <td>0.215</td>\n",
       "      <td>0.805</td>\n",
       "      <td>6.0</td>\n",
       "      <td>-12.757</td>\n",
       "      <td>0</td>\n",
       "      <td>0.1340</td>\n",
       "      <td>0.001290</td>\n",
       "      <td>0.916000</td>\n",
       "      <td>0.2560</td>\n",
       "      <td>0.3550</td>\n",
       "      <td>131.363</td>\n",
       "      <td>219693.0</td>\n",
       "      <td>4</td>\n",
       "      <td>8</td>\n",
       "    </tr>\n",
       "    <tr>\n",
       "      <th>17995</th>\n",
       "      <td>The Raconteurs</td>\n",
       "      <td>Broken Boy Soldier</td>\n",
       "      <td>43.0</td>\n",
       "      <td>0.400</td>\n",
       "      <td>0.853</td>\n",
       "      <td>4.0</td>\n",
       "      <td>-5.320</td>\n",
       "      <td>0</td>\n",
       "      <td>0.0591</td>\n",
       "      <td>0.006040</td>\n",
       "      <td>0.212000</td>\n",
       "      <td>0.3340</td>\n",
       "      <td>0.3770</td>\n",
       "      <td>138.102</td>\n",
       "      <td>182227.0</td>\n",
       "      <td>4</td>\n",
       "      <td>10</td>\n",
       "    </tr>\n",
       "  </tbody>\n",
       "</table>\n",
       "<p>17996 rows × 17 columns</p>\n",
       "</div>"
      ],
      "text/plain": [
       "                 Artist Name                             Track Name  \\\n",
       "0                 Bruno Mars  That's What I Like (feat. Gucci Mane)   \n",
       "1                     Boston                           Hitch a Ride   \n",
       "2              The Raincoats                     No Side to Fall In   \n",
       "3                       Deno             Lingo (feat. J.I & Chunkz)   \n",
       "4      Red Hot Chili Peppers      Nobody Weird Like Me - Remastered   \n",
       "...                      ...                                    ...   \n",
       "17991            Green-House                              Find Home   \n",
       "17992               Micatone                               All Gone   \n",
       "17993        Smash Hit Combo                           Peine perdue   \n",
       "17994                Beherit                         Salomon's Gate   \n",
       "17995         The Raconteurs                     Broken Boy Soldier   \n",
       "\n",
       "       Popularity  danceability  energy   key  loudness  mode  speechiness  \\\n",
       "0            60.0         0.854   0.564   1.0    -4.964     1       0.0485   \n",
       "1            54.0         0.382   0.814   3.0    -7.230     1       0.0406   \n",
       "2            35.0         0.434   0.614   6.0    -8.334     1       0.0525   \n",
       "3            66.0         0.853   0.597  10.0    -6.528     0       0.0555   \n",
       "4            53.0         0.167   0.975   2.0    -4.279     1       0.2160   \n",
       "...           ...           ...     ...   ...       ...   ...          ...   \n",
       "17991        35.0         0.166   0.109   7.0   -17.100     0       0.0413   \n",
       "17992        27.0         0.638   0.223  11.0   -10.174     0       0.0329   \n",
       "17993        34.0         0.558   0.981   4.0    -4.683     0       0.0712   \n",
       "17994        29.0         0.215   0.805   6.0   -12.757     0       0.1340   \n",
       "17995        43.0         0.400   0.853   4.0    -5.320     0       0.0591   \n",
       "\n",
       "       acousticness  instrumentalness  liveness  valence    tempo  \\\n",
       "0          0.017100               NaN    0.0849   0.8990  134.071   \n",
       "1          0.001100          0.004010    0.1010   0.5690  116.454   \n",
       "2          0.486000          0.000196    0.3940   0.7870  147.681   \n",
       "3          0.021200               NaN    0.1220   0.5690  107.033   \n",
       "4          0.000169          0.016100    0.1720   0.0918  199.060   \n",
       "...             ...               ...       ...      ...      ...   \n",
       "17991      0.993000          0.824000    0.0984   0.1770  171.587   \n",
       "17992      0.858000          0.000016    0.0705   0.3350   73.016   \n",
       "17993      0.000030          0.000136    0.6660   0.2620  105.000   \n",
       "17994      0.001290          0.916000    0.2560   0.3550  131.363   \n",
       "17995      0.006040          0.212000    0.3340   0.3770  138.102   \n",
       "\n",
       "       duration_in min/ms  time_signature  Class  \n",
       "0                234596.0               4      5  \n",
       "1                251733.0               4     10  \n",
       "2                109667.0               4      6  \n",
       "3                173968.0               4      5  \n",
       "4                229960.0               4     10  \n",
       "...                   ...             ...    ...  \n",
       "17991            193450.0               3      6  \n",
       "17992            257067.0               4      2  \n",
       "17993            216222.0               4      8  \n",
       "17994            219693.0               4      8  \n",
       "17995            182227.0               4     10  \n",
       "\n",
       "[17996 rows x 17 columns]"
      ]
     },
     "execution_count": 56,
     "metadata": {},
     "output_type": "execute_result"
    }
   ],
   "source": [
    "# chemin du dataset \n",
    "path = \"../evaluation/music_genre_dataset.csv\"\n",
    "\n",
    "# définition du dataset \n",
    "df = pd.read_csv(path)\n",
    "df"
   ]
  },
  {
   "cell_type": "code",
   "execution_count": 57,
   "id": "2adfeee2",
   "metadata": {},
   "outputs": [
    {
     "name": "stdout",
     "output_type": "stream",
     "text": [
      "Il y a 17996 données dans cet échantillon qui sont décrites avec 17 critères.\n"
     ]
    }
   ],
   "source": [
    "print(\"Il y a\", len(df), \"données dans cet échantillon qui sont décrites avec\", len(df.columns), \"critères.\")  "
   ]
  },
  {
   "cell_type": "code",
   "execution_count": 58,
   "id": "bb9a6224",
   "metadata": {},
   "outputs": [
    {
     "data": {
      "text/html": [
       "<div>\n",
       "<style scoped>\n",
       "    .dataframe tbody tr th:only-of-type {\n",
       "        vertical-align: middle;\n",
       "    }\n",
       "\n",
       "    .dataframe tbody tr th {\n",
       "        vertical-align: top;\n",
       "    }\n",
       "\n",
       "    .dataframe thead th {\n",
       "        text-align: right;\n",
       "    }\n",
       "</style>\n",
       "<table border=\"1\" class=\"dataframe\">\n",
       "  <thead>\n",
       "    <tr style=\"text-align: right;\">\n",
       "      <th></th>\n",
       "      <th>Artist Name</th>\n",
       "      <th>Track Name</th>\n",
       "      <th>Popularity</th>\n",
       "      <th>danceability</th>\n",
       "      <th>energy</th>\n",
       "      <th>key</th>\n",
       "      <th>loudness</th>\n",
       "      <th>mode</th>\n",
       "      <th>speechiness</th>\n",
       "      <th>acousticness</th>\n",
       "      <th>instrumentalness</th>\n",
       "      <th>liveness</th>\n",
       "      <th>valence</th>\n",
       "      <th>tempo</th>\n",
       "      <th>duration_in min/ms</th>\n",
       "      <th>time_signature</th>\n",
       "      <th>Class</th>\n",
       "    </tr>\n",
       "  </thead>\n",
       "  <tbody>\n",
       "    <tr>\n",
       "      <th>0</th>\n",
       "      <td>Bruno Mars</td>\n",
       "      <td>That's What I Like (feat. Gucci Mane)</td>\n",
       "      <td>60.0</td>\n",
       "      <td>0.854</td>\n",
       "      <td>0.564</td>\n",
       "      <td>1.0</td>\n",
       "      <td>-4.964</td>\n",
       "      <td>1</td>\n",
       "      <td>0.0485</td>\n",
       "      <td>0.017100</td>\n",
       "      <td>NaN</td>\n",
       "      <td>0.0849</td>\n",
       "      <td>0.8990</td>\n",
       "      <td>134.071</td>\n",
       "      <td>234596.0</td>\n",
       "      <td>4</td>\n",
       "      <td>5</td>\n",
       "    </tr>\n",
       "    <tr>\n",
       "      <th>1</th>\n",
       "      <td>Boston</td>\n",
       "      <td>Hitch a Ride</td>\n",
       "      <td>54.0</td>\n",
       "      <td>0.382</td>\n",
       "      <td>0.814</td>\n",
       "      <td>3.0</td>\n",
       "      <td>-7.230</td>\n",
       "      <td>1</td>\n",
       "      <td>0.0406</td>\n",
       "      <td>0.001100</td>\n",
       "      <td>0.004010</td>\n",
       "      <td>0.1010</td>\n",
       "      <td>0.5690</td>\n",
       "      <td>116.454</td>\n",
       "      <td>251733.0</td>\n",
       "      <td>4</td>\n",
       "      <td>10</td>\n",
       "    </tr>\n",
       "    <tr>\n",
       "      <th>2</th>\n",
       "      <td>The Raincoats</td>\n",
       "      <td>No Side to Fall In</td>\n",
       "      <td>35.0</td>\n",
       "      <td>0.434</td>\n",
       "      <td>0.614</td>\n",
       "      <td>6.0</td>\n",
       "      <td>-8.334</td>\n",
       "      <td>1</td>\n",
       "      <td>0.0525</td>\n",
       "      <td>0.486000</td>\n",
       "      <td>0.000196</td>\n",
       "      <td>0.3940</td>\n",
       "      <td>0.7870</td>\n",
       "      <td>147.681</td>\n",
       "      <td>109667.0</td>\n",
       "      <td>4</td>\n",
       "      <td>6</td>\n",
       "    </tr>\n",
       "    <tr>\n",
       "      <th>3</th>\n",
       "      <td>Deno</td>\n",
       "      <td>Lingo (feat. J.I &amp; Chunkz)</td>\n",
       "      <td>66.0</td>\n",
       "      <td>0.853</td>\n",
       "      <td>0.597</td>\n",
       "      <td>10.0</td>\n",
       "      <td>-6.528</td>\n",
       "      <td>0</td>\n",
       "      <td>0.0555</td>\n",
       "      <td>0.021200</td>\n",
       "      <td>NaN</td>\n",
       "      <td>0.1220</td>\n",
       "      <td>0.5690</td>\n",
       "      <td>107.033</td>\n",
       "      <td>173968.0</td>\n",
       "      <td>4</td>\n",
       "      <td>5</td>\n",
       "    </tr>\n",
       "    <tr>\n",
       "      <th>4</th>\n",
       "      <td>Red Hot Chili Peppers</td>\n",
       "      <td>Nobody Weird Like Me - Remastered</td>\n",
       "      <td>53.0</td>\n",
       "      <td>0.167</td>\n",
       "      <td>0.975</td>\n",
       "      <td>2.0</td>\n",
       "      <td>-4.279</td>\n",
       "      <td>1</td>\n",
       "      <td>0.2160</td>\n",
       "      <td>0.000169</td>\n",
       "      <td>0.016100</td>\n",
       "      <td>0.1720</td>\n",
       "      <td>0.0918</td>\n",
       "      <td>199.060</td>\n",
       "      <td>229960.0</td>\n",
       "      <td>4</td>\n",
       "      <td>10</td>\n",
       "    </tr>\n",
       "  </tbody>\n",
       "</table>\n",
       "</div>"
      ],
      "text/plain": [
       "             Artist Name                             Track Name  Popularity  \\\n",
       "0             Bruno Mars  That's What I Like (feat. Gucci Mane)        60.0   \n",
       "1                 Boston                           Hitch a Ride        54.0   \n",
       "2          The Raincoats                     No Side to Fall In        35.0   \n",
       "3                   Deno             Lingo (feat. J.I & Chunkz)        66.0   \n",
       "4  Red Hot Chili Peppers      Nobody Weird Like Me - Remastered        53.0   \n",
       "\n",
       "   danceability  energy   key  loudness  mode  speechiness  acousticness  \\\n",
       "0         0.854   0.564   1.0    -4.964     1       0.0485      0.017100   \n",
       "1         0.382   0.814   3.0    -7.230     1       0.0406      0.001100   \n",
       "2         0.434   0.614   6.0    -8.334     1       0.0525      0.486000   \n",
       "3         0.853   0.597  10.0    -6.528     0       0.0555      0.021200   \n",
       "4         0.167   0.975   2.0    -4.279     1       0.2160      0.000169   \n",
       "\n",
       "   instrumentalness  liveness  valence    tempo  duration_in min/ms  \\\n",
       "0               NaN    0.0849   0.8990  134.071            234596.0   \n",
       "1          0.004010    0.1010   0.5690  116.454            251733.0   \n",
       "2          0.000196    0.3940   0.7870  147.681            109667.0   \n",
       "3               NaN    0.1220   0.5690  107.033            173968.0   \n",
       "4          0.016100    0.1720   0.0918  199.060            229960.0   \n",
       "\n",
       "   time_signature  Class  \n",
       "0               4      5  \n",
       "1               4     10  \n",
       "2               4      6  \n",
       "3               4      5  \n",
       "4               4     10  "
      ]
     },
     "execution_count": 58,
     "metadata": {},
     "output_type": "execute_result"
    }
   ],
   "source": [
    "df.head()"
   ]
  },
  {
   "cell_type": "markdown",
   "id": "8935617f",
   "metadata": {},
   "source": [
    "Ce dataset répertoriant différentes musiques, est constitué de presque 18 000 échantillons différents, chacun décrits grâce à 17 critères.  \n",
    "Nous pouvons voir que ces musiques sont décrites grâce au nom de l'artiste, son nom, son pourcentage d'énergie qui peut être ressenti, le potentiel de dansabilité ainsi que sa côte de popularité.  \n",
    "Chacune de ces musiques appartienne à un genre musical, correspond à la variable *Class*.  \n",
    "Le but de cet exercice est d'arriver à prédire le genre musical de chaque musique via le machine learning."
   ]
  },
  {
   "cell_type": "markdown",
   "id": "c8230519",
   "metadata": {},
   "source": [
    "<h1  style = \"font-size:40px;background-color: Black ; color : White; text-align: center; border-radius: 20px 20px;\">Nettoyage du dataset</h1>"
   ]
  },
  {
   "cell_type": "markdown",
   "id": "872f6b7d",
   "metadata": {},
   "source": [
    "<h1  style = \"font-size:20px; color : Green; text-align: left;\">Nettoyage du dataset : Isolation de notre cible</h1>"
   ]
  },
  {
   "cell_type": "code",
   "execution_count": 59,
   "id": "25277482",
   "metadata": {},
   "outputs": [],
   "source": [
    "# On isole la cible du dataset, et donc ce qu'on va chercher à prédire\n",
    "target_name = \"Class\"\n",
    "\n",
    "def extract_target(data: pd.DataFrame, target_name: str) -> (pd.DataFrame, pd.Series):\n",
    "    \"\"\"\n",
    "    Extract the target and return th splited data.\n",
    "    Should not modify data.\n",
    "    'target_name' should be a column index of data.\n",
    "    \"\"\"\n",
    "    df = data.copy()\n",
    "    target = df.pop(target_name)  \n",
    "    return df, target  \n",
    "\n",
    "df, target = extract_target(df, target_name)"
   ]
  },
  {
   "cell_type": "code",
   "execution_count": 60,
   "id": "20d7391a",
   "metadata": {},
   "outputs": [
    {
     "name": "stdout",
     "output_type": "stream",
     "text": [
      "Il y a maintenant 16 colonnes dans ce dataset.\n",
      "Shape de la target : (17996,).\n",
      "0         5\n",
      "1        10\n",
      "2         6\n",
      "3         5\n",
      "4        10\n",
      "         ..\n",
      "17991     6\n",
      "17992     2\n",
      "17993     8\n",
      "17994     8\n",
      "17995    10\n",
      "Name: Class, Length: 17996, dtype: int64\n"
     ]
    }
   ],
   "source": [
    "print(f'Il y a maintenant {df.shape[1]} colonnes dans ce dataset.')\n",
    "print(f'Shape de la target : {target.shape}.')\n",
    "print(target)"
   ]
  },
  {
   "cell_type": "markdown",
   "id": "78b723ba",
   "metadata": {},
   "source": [
    "<h1  style = \"font-size:20px; color : Green; text-align: left;\">Nettoyage du dataset : Retrait des données NaN</h1>"
   ]
  },
  {
   "cell_type": "markdown",
   "id": "b2a64bb0",
   "metadata": {},
   "source": [
    "Afin d'éviter toutes erreurs pouvant subvenir lors de la prédiction de nos classes, il faut s'assurer que le dataset ne possèdent pas de valeurs **NaN** qui pourraient faire échouer notre entraînement."
   ]
  },
  {
   "cell_type": "code",
   "execution_count": 61,
   "id": "401b4ac8",
   "metadata": {},
   "outputs": [
    {
     "name": "stdout",
     "output_type": "stream",
     "text": [
      "il y a 428 NaN dans la colonne Popularity.\n",
      "il y a 2014 NaN dans la colonne key.\n",
      "il y a 4377 NaN dans la colonne instrumentalness.\n",
      "il y a 6183 lignes dans lesquelles il y a au moins un Nan.\n"
     ]
    }
   ],
   "source": [
    "nan = df.isna().sum()  \n",
    "for i in range(len(nan)):\n",
    "    if nan[i] > 0:\n",
    "        print(f'il y a {nan[i]} NaN dans la colonne {nan.index[i]}.')\n",
    "print(f'il y a {(df.isna().T.sum() != 0).sum()} lignes dans lesquelles il y a au moins un Nan.')\n"
   ]
  },
  {
   "cell_type": "markdown",
   "id": "c97cb817",
   "metadata": {},
   "source": [
    "Comme vu ci-dessus, trois colonnes sont concernées par des données manquantes, ce qui équivaut également à 6183 échantillons. Nous allons enlever ces **NaN** en retirant les colonnes concernées du dataset."
   ]
  },
  {
   "cell_type": "code",
   "execution_count": 62,
   "id": "8f51188a",
   "metadata": {},
   "outputs": [
    {
     "name": "stdout",
     "output_type": "stream",
     "text": [
      "Shape du dataset nettoyé : (17996, 13).\n"
     ]
    }
   ],
   "source": [
    "def remove_nan(data: pd.DataFrame) -> pd.DataFrame:\n",
    "    \"\"\"\n",
    "    Remove NaN values from a dataframe\n",
    "    \"\"\"\n",
    "    new_data = data.dropna(axis = 1)  \n",
    "    return new_data  \n",
    "\n",
    "\n",
    "clean_data = remove_nan(df)\n",
    "\n",
    "print(f'Shape du dataset nettoyé : {clean_data.shape}.')  "
   ]
  },
  {
   "cell_type": "markdown",
   "id": "4ca387ad",
   "metadata": {},
   "source": [
    "Nous nous assurons que toutes les valeurs manquantes ont bien été supprimées."
   ]
  },
  {
   "cell_type": "code",
   "execution_count": 63,
   "id": "aab82163",
   "metadata": {},
   "outputs": [
    {
     "name": "stdout",
     "output_type": "stream",
     "text": [
      "il y a 0 lignes dans lesquelles il y a au moins un Nan.\n"
     ]
    }
   ],
   "source": [
    "nan_verified = clean_data.isna().sum()  \n",
    "for i in range(len(nan_verified)):\n",
    "    if nan_verified[i] > 0:\n",
    "        print(f'il y a {nan_verified[i]} NaN dans la colonne {nan_verified.index[i]}.')\n",
    "print(f'il y a {(clean_data.isna().T.sum() != 0).sum()} lignes dans lesquelles il y a au moins un Nan.')\n"
   ]
  },
  {
   "cell_type": "markdown",
   "id": "760f4ef1",
   "metadata": {},
   "source": [
    "<h1  style = \"font-size:40px;background-color: Black ; color : White; text-align: center; border-radius: 20px 20px;\">Analyse du dataset</h1>"
   ]
  },
  {
   "cell_type": "markdown",
   "id": "166c06a2",
   "metadata": {},
   "source": [
    "<h1  style = \"font-size:20px; color : Green; text-align: left;\">Analyse du dataset : type de nos données</h1>"
   ]
  },
  {
   "cell_type": "markdown",
   "id": "a85253ce",
   "metadata": {},
   "source": [
    "Nous allons maintenant analyser ce dataset afin de mieux le comprendre. Nous allons notamment regarder les types de données ainsi que les statistiques et les répartitions autour de ce dataset."
   ]
  },
  {
   "cell_type": "code",
   "execution_count": 64,
   "id": "0ff3c1f8",
   "metadata": {},
   "outputs": [
    {
     "name": "stdout",
     "output_type": "stream",
     "text": [
      "Les features de ce dataset ont chacun pour type : Artist Name            object\n",
      "Track Name             object\n",
      "danceability          float64\n",
      "energy                float64\n",
      "loudness              float64\n",
      "mode                    int64\n",
      "speechiness           float64\n",
      "acousticness          float64\n",
      "liveness              float64\n",
      "valence               float64\n",
      "tempo                 float64\n",
      "duration_in min/ms    float64\n",
      "time_signature          int64\n",
      "dtype: object\n",
      "float64    9\n",
      "object     2\n",
      "int64      2\n",
      "dtype: int64\n"
     ]
    }
   ],
   "source": [
    "print(f'Les features de ce dataset ont chacun pour type : {clean_data.dtypes}')  \n",
    "print(clean_data.dtypes.value_counts())"
   ]
  },
  {
   "cell_type": "markdown",
   "id": "0a6371c6",
   "metadata": {},
   "source": [
    "Afin d'avoir une meilleure idée de notre dataset, nous affichons le nombre de valeurs uniques pour chaque features."
   ]
  },
  {
   "cell_type": "code",
   "execution_count": 65,
   "id": "65fdd160",
   "metadata": {},
   "outputs": [
    {
     "name": "stdout",
     "output_type": "stream",
     "text": [
      "Artist Name            9149\n",
      "Track Name            15129\n",
      "danceability            909\n",
      "energy                 1208\n",
      "loudness               9002\n",
      "mode                      2\n",
      "speechiness            1194\n",
      "acousticness           3930\n",
      "liveness               1459\n",
      "valence                1320\n",
      "tempo                 13562\n",
      "duration_in min/ms    14121\n",
      "time_signature            4\n",
      "dtype: int64\n",
      "                      types  nunique\n",
      "Artist Name          object     9149\n",
      "Track Name           object    15129\n",
      "danceability        float64      909\n",
      "energy              float64     1208\n",
      "loudness            float64     9002\n",
      "mode                  int64        2\n",
      "speechiness         float64     1194\n",
      "acousticness        float64     3930\n",
      "liveness            float64     1459\n",
      "valence             float64     1320\n",
      "tempo               float64    13562\n",
      "duration_in min/ms  float64    14121\n",
      "time_signature        int64        4\n"
     ]
    }
   ],
   "source": [
    "features_nunique = clean_data.nunique()  \n",
    "print(features_nunique)\n",
    "\n",
    "features_types = clean_data.dtypes\n",
    "\n",
    "features_types_nunique = pd.DataFrame({\"types\": features_types, \"nunique\": features_nunique})\n",
    "print(features_types_nunique)"
   ]
  },
  {
   "cell_type": "code",
   "execution_count": 66,
   "id": "4516588a",
   "metadata": {
    "scrolled": true
   },
   "outputs": [
    {
     "data": {
      "text/plain": [
       "<AxesSubplot: title={'center': 'répartition des valeurs pour chaque features selon leur type'}, xlabel='features', ylabel='nombre des différentes valeurs \\n(échelle logarithmique)'>"
      ]
     },
     "execution_count": 66,
     "metadata": {},
     "output_type": "execute_result"
    },
    {
     "data": {
      "image/png": "[encoded data removed]",
      "text/plain": [
       "<Figure size 2000x500 with 1 Axes>"
      ]
     },
     "metadata": {},
     "output_type": "display_data"
    }
   ],
   "source": [
    "sorted_features = features_types_nunique.sort_values(by=[\"nunique\"], ascending=False)\n",
    "\n",
    "# Define labels and colors for legend\n",
    "labels, labels_colors = [\"object\", \"int64\", \"float64\"], [\"b\", \"g\", \"y\"]\n",
    "colors = sorted_features[\"types\"].replace(labels, labels_colors)\n",
    "\n",
    "# Manage legend\n",
    "handles = [plt.Rectangle((0,0),1,1, color=color) for color in labels_colors]\n",
    "plt.legend(handles, labels, title=\"Type\")\n",
    "\n",
    "# Make bar plot\n",
    "sorted_features[\"nunique\"].plot(kind=\"bar\", color=list(colors), logy=True, figsize=(20, 5), grid=True,\n",
    "                                xlabel=\"features\", ylabel=\"nombre des différentes valeurs \\n(échelle logarithmique)\", \n",
    "                                title=\"répartition des valeurs pour chaque features selon leur type\")\n",
    "\n"
   ]
  },
  {
   "cell_type": "markdown",
   "id": "3da7e900",
   "metadata": {},
   "source": [
    "A l'aide du graphique ci-dessus, nous pouvons voir que pour les données de type *object* et *float64*, les valeurs sont diversifiées, au contraire des données de type *int64*."
   ]
  },
  {
   "cell_type": "markdown",
   "id": "e61beef8",
   "metadata": {},
   "source": [
    "<h1  style = \"font-size:20px; color : Green; text-align: left;\">Analyse du dataset : Un peu de data visualisation</h1>"
   ]
  },
  {
   "cell_type": "markdown",
   "id": "b5bb9ae9",
   "metadata": {},
   "source": [
    "Afin d'avoir une meilleure idée de la répartition de nos données, nous allons passer par une étape de datavisualisation et d'étude de statistiques.  \n",
    "Ci-dessous, nous affichons les statistiques associées à nos données une fois nettoyées."
   ]
  },
  {
   "cell_type": "code",
   "execution_count": 67,
   "id": "39fcb6ce",
   "metadata": {},
   "outputs": [
    {
     "data": {
      "text/html": [
       "<div>\n",
       "<style scoped>\n",
       "    .dataframe tbody tr th:only-of-type {\n",
       "        vertical-align: middle;\n",
       "    }\n",
       "\n",
       "    .dataframe tbody tr th {\n",
       "        vertical-align: top;\n",
       "    }\n",
       "\n",
       "    .dataframe thead th {\n",
       "        text-align: right;\n",
       "    }\n",
       "</style>\n",
       "<table border=\"1\" class=\"dataframe\">\n",
       "  <thead>\n",
       "    <tr style=\"text-align: right;\">\n",
       "      <th></th>\n",
       "      <th>danceability</th>\n",
       "      <th>energy</th>\n",
       "      <th>loudness</th>\n",
       "      <th>mode</th>\n",
       "      <th>speechiness</th>\n",
       "      <th>acousticness</th>\n",
       "      <th>liveness</th>\n",
       "      <th>valence</th>\n",
       "      <th>tempo</th>\n",
       "      <th>duration_in min/ms</th>\n",
       "      <th>time_signature</th>\n",
       "    </tr>\n",
       "  </thead>\n",
       "  <tbody>\n",
       "    <tr>\n",
       "      <th>count</th>\n",
       "      <td>17996.000000</td>\n",
       "      <td>17996.000000</td>\n",
       "      <td>17996.000000</td>\n",
       "      <td>17996.000000</td>\n",
       "      <td>17996.000000</td>\n",
       "      <td>17996.000000</td>\n",
       "      <td>17996.000000</td>\n",
       "      <td>17996.000000</td>\n",
       "      <td>17996.000000</td>\n",
       "      <td>1.799600e+04</td>\n",
       "      <td>17996.000000</td>\n",
       "    </tr>\n",
       "    <tr>\n",
       "      <th>mean</th>\n",
       "      <td>0.543433</td>\n",
       "      <td>0.662777</td>\n",
       "      <td>-7.910660</td>\n",
       "      <td>0.636753</td>\n",
       "      <td>0.079707</td>\n",
       "      <td>0.247082</td>\n",
       "      <td>0.196170</td>\n",
       "      <td>0.486208</td>\n",
       "      <td>122.623294</td>\n",
       "      <td>2.007445e+05</td>\n",
       "      <td>3.924039</td>\n",
       "    </tr>\n",
       "    <tr>\n",
       "      <th>std</th>\n",
       "      <td>0.166268</td>\n",
       "      <td>0.235373</td>\n",
       "      <td>4.049151</td>\n",
       "      <td>0.480949</td>\n",
       "      <td>0.083576</td>\n",
       "      <td>0.310632</td>\n",
       "      <td>0.159212</td>\n",
       "      <td>0.240195</td>\n",
       "      <td>29.571527</td>\n",
       "      <td>1.119891e+05</td>\n",
       "      <td>0.361618</td>\n",
       "    </tr>\n",
       "    <tr>\n",
       "      <th>min</th>\n",
       "      <td>0.059600</td>\n",
       "      <td>0.000020</td>\n",
       "      <td>-39.952000</td>\n",
       "      <td>0.000000</td>\n",
       "      <td>0.022500</td>\n",
       "      <td>0.000000</td>\n",
       "      <td>0.011900</td>\n",
       "      <td>0.018300</td>\n",
       "      <td>30.557000</td>\n",
       "      <td>5.016500e-01</td>\n",
       "      <td>1.000000</td>\n",
       "    </tr>\n",
       "    <tr>\n",
       "      <th>25%</th>\n",
       "      <td>0.432000</td>\n",
       "      <td>0.509000</td>\n",
       "      <td>-9.538000</td>\n",
       "      <td>0.000000</td>\n",
       "      <td>0.034800</td>\n",
       "      <td>0.004300</td>\n",
       "      <td>0.097500</td>\n",
       "      <td>0.297000</td>\n",
       "      <td>99.620750</td>\n",
       "      <td>1.663370e+05</td>\n",
       "      <td>4.000000</td>\n",
       "    </tr>\n",
       "    <tr>\n",
       "      <th>50%</th>\n",
       "      <td>0.545000</td>\n",
       "      <td>0.700000</td>\n",
       "      <td>-7.016000</td>\n",
       "      <td>1.000000</td>\n",
       "      <td>0.047400</td>\n",
       "      <td>0.081400</td>\n",
       "      <td>0.129000</td>\n",
       "      <td>0.481000</td>\n",
       "      <td>120.065500</td>\n",
       "      <td>2.091600e+05</td>\n",
       "      <td>4.000000</td>\n",
       "    </tr>\n",
       "    <tr>\n",
       "      <th>75%</th>\n",
       "      <td>0.659000</td>\n",
       "      <td>0.860000</td>\n",
       "      <td>-5.189000</td>\n",
       "      <td>1.000000</td>\n",
       "      <td>0.083000</td>\n",
       "      <td>0.434000</td>\n",
       "      <td>0.258000</td>\n",
       "      <td>0.672000</td>\n",
       "      <td>141.969250</td>\n",
       "      <td>2.524900e+05</td>\n",
       "      <td>4.000000</td>\n",
       "    </tr>\n",
       "    <tr>\n",
       "      <th>max</th>\n",
       "      <td>0.989000</td>\n",
       "      <td>1.000000</td>\n",
       "      <td>1.355000</td>\n",
       "      <td>1.000000</td>\n",
       "      <td>0.955000</td>\n",
       "      <td>0.996000</td>\n",
       "      <td>1.000000</td>\n",
       "      <td>0.986000</td>\n",
       "      <td>217.416000</td>\n",
       "      <td>1.477187e+06</td>\n",
       "      <td>5.000000</td>\n",
       "    </tr>\n",
       "  </tbody>\n",
       "</table>\n",
       "</div>"
      ],
      "text/plain": [
       "       danceability        energy      loudness          mode   speechiness  \\\n",
       "count  17996.000000  17996.000000  17996.000000  17996.000000  17996.000000   \n",
       "mean       0.543433      0.662777     -7.910660      0.636753      0.079707   \n",
       "std        0.166268      0.235373      4.049151      0.480949      0.083576   \n",
       "min        0.059600      0.000020    -39.952000      0.000000      0.022500   \n",
       "25%        0.432000      0.509000     -9.538000      0.000000      0.034800   \n",
       "50%        0.545000      0.700000     -7.016000      1.000000      0.047400   \n",
       "75%        0.659000      0.860000     -5.189000      1.000000      0.083000   \n",
       "max        0.989000      1.000000      1.355000      1.000000      0.955000   \n",
       "\n",
       "       acousticness      liveness       valence         tempo  \\\n",
       "count  17996.000000  17996.000000  17996.000000  17996.000000   \n",
       "mean       0.247082      0.196170      0.486208    122.623294   \n",
       "std        0.310632      0.159212      0.240195     29.571527   \n",
       "min        0.000000      0.011900      0.018300     30.557000   \n",
       "25%        0.004300      0.097500      0.297000     99.620750   \n",
       "50%        0.081400      0.129000      0.481000    120.065500   \n",
       "75%        0.434000      0.258000      0.672000    141.969250   \n",
       "max        0.996000      1.000000      0.986000    217.416000   \n",
       "\n",
       "       duration_in min/ms  time_signature  \n",
       "count        1.799600e+04    17996.000000  \n",
       "mean         2.007445e+05        3.924039  \n",
       "std          1.119891e+05        0.361618  \n",
       "min          5.016500e-01        1.000000  \n",
       "25%          1.663370e+05        4.000000  \n",
       "50%          2.091600e+05        4.000000  \n",
       "75%          2.524900e+05        4.000000  \n",
       "max          1.477187e+06        5.000000  "
      ]
     },
     "execution_count": 67,
     "metadata": {},
     "output_type": "execute_result"
    }
   ],
   "source": [
    "clean_data.describe()"
   ]
  },
  {
   "cell_type": "markdown",
   "id": "287afe9a",
   "metadata": {},
   "source": [
    "Nous les affichons également sous la forme de boxplot afin d'avoir un compte-rendu plus visuel."
   ]
  },
  {
   "cell_type": "code",
   "execution_count": 68,
   "id": "11ceeaad",
   "metadata": {},
   "outputs": [
    {
     "data": {
      "image/png": "[encoded data removed]",
      "text/plain": [
       "<Figure size 640x480 with 1 Axes>"
      ]
     },
     "metadata": {},
     "output_type": "display_data"
    },
    {
     "data": {
      "image/png": "[encoded data removed]",
      "text/plain": [
       "<Figure size 640x480 with 1 Axes>"
      ]
     },
     "metadata": {},
     "output_type": "display_data"
    },
    {
     "data": {
      "image/png": "[encoded data removed]",
      "text/plain": [
       "<Figure size 640x480 with 1 Axes>"
      ]
     },
     "metadata": {},
     "output_type": "display_data"
    },
    {
     "data": {
      "image/png": "[encoded data removed]",
      "text/plain": [
       "<Figure size 640x480 with 1 Axes>"
      ]
     },
     "metadata": {},
     "output_type": "display_data"
    },
    {
     "data": {
      "image/png": "[encoded data removed]",
      "text/plain": [
       "<Figure size 640x480 with 1 Axes>"
      ]
     },
     "metadata": {},
     "output_type": "display_data"
    },
    {
     "data": {
      "image/png": "[encoded data removed]",
      "text/plain": [
       "<Figure size 640x480 with 1 Axes>"
      ]
     },
     "metadata": {},
     "output_type": "display_data"
    },
    {
     "data": {
      "image/png": "[encoded data removed]",
      "text/plain": [
       "<Figure size 640x480 with 1 Axes>"
      ]
     },
     "metadata": {},
     "output_type": "display_data"
    },
    {
     "data": {
      "image/png": "[encoded data removed]",
      "text/plain": [
       "<Figure size 640x480 with 1 Axes>"
      ]
     },
     "metadata": {},
     "output_type": "display_data"
    },
    {
     "data": {
      "image/png": "[encoded data removed]",
      "text/plain": [
       "<Figure size 640x480 with 1 Axes>"
      ]
     },
     "metadata": {},
     "output_type": "display_data"
    },
    {
     "data": {
      "image/png": "[encoded data removed]",
      "text/plain": [
       "<Figure size 640x480 with 1 Axes>"
      ]
     },
     "metadata": {},
     "output_type": "display_data"
    },
    {
     "data": {
      "image/png": "[encoded data removed]",
      "text/plain": [
       "<Figure size 640x480 with 1 Axes>"
      ]
     },
     "metadata": {},
     "output_type": "display_data"
    }
   ],
   "source": [
    "for nom_col in clean_data.columns:\n",
    "    if  clean_data[nom_col].dtypes != 'O':\n",
    "        red_square = dict(markerfacecolor='m', marker='o', markersize=4, markeredgecolor='w')\n",
    "        plt.boxplot(clean_data[nom_col], flierprops=red_square)\n",
    "        plt.xlabel(nom_col)\n",
    "        plt.ylabel(\"Répartition des valeurs\")\n",
    "        plt.show()"
   ]
  },
  {
   "cell_type": "markdown",
   "id": "e5ac8b6b",
   "metadata": {},
   "source": [
    "Nous pouvons noter par exemple que pour le feature **valence**, la répartition des données est plutôt correcte lorsqu'on observe les quartiles, médiane et moyenne. En revanche, nous pouvons par exemple noter que la répartition des données pour le feature **acousticness** est assez inégale. En effet, nous pouvons affirmer à titre d'exemple que la moyenne est très proche du premier quartile, tout en aillant sa valeur maximale élevée."
   ]
  },
  {
   "cell_type": "markdown",
   "id": "0dd689e8",
   "metadata": {},
   "source": [
    "Nous affichons maintenant la répartition des classes de notre dataset."
   ]
  },
  {
   "cell_type": "code",
   "execution_count": 69,
   "id": "714bf2b3",
   "metadata": {
    "scrolled": true
   },
   "outputs": [
    {
     "data": {
      "application/vnd.plotly.v1+json": {
       "config": {
        "plotlyServerURL": "https://plot.ly"
       },
       "data": [
        {
         "hole": 0.6,
         "labels": [
          0,
          1,
          2,
          3,
          4,
          5,
          6,
          7,
          8,
          9,
          10
         ],
         "title": {
          "text": "Distribution of labels in the dataset"
         },
         "type": "pie",
         "values": [
          625,
          1373,
          1272,
          402,
          387,
          1447,
          2587,
          576,
          1854,
          2524,
          4949
         ]
        }
       ],
       "layout": {
        "template": {
         "data": {
          "bar": [
           {
            "error_x": {
             "color": "#2a3f5f"
            },
            "error_y": {
             "color": "#2a3f5f"
            },
            "marker": {
             "line": {
              "color": "#E5ECF6",
              "width": 0.5
             },
             "pattern": {
              "fillmode": "overlay",
              "size": 10,
              "solidity": 0.2
             }
            },
            "type": "bar"
           }
          ],
          "barpolar": [
           {
            "marker": {
             "line": {
              "color": "#E5ECF6",
              "width": 0.5
             },
             "pattern": {
              "fillmode": "overlay",
              "size": 10,
              "solidity": 0.2
             }
            },
            "type": "barpolar"
           }
          ],
          "carpet": [
           {
            "aaxis": {
             "endlinecolor": "#2a3f5f",
             "gridcolor": "white",
             "linecolor": "white",
             "minorgridcolor": "white",
             "startlinecolor": "#2a3f5f"
            },
            "baxis": {
             "endlinecolor": "#2a3f5f",
             "gridcolor": "white",
             "linecolor": "white",
             "minorgridcolor": "white",
             "startlinecolor": "#2a3f5f"
            },
            "type": "carpet"
           }
          ],
          "choropleth": [
           {
            "colorbar": {
             "outlinewidth": 0,
             "ticks": ""
            },
            "type": "choropleth"
           }
          ],
          "contour": [
           {
            "colorbar": {
             "outlinewidth": 0,
             "ticks": ""
            },
            "colorscale": [
             [
              0,
              "#0d0887"
             ],
             [
              0.1111111111111111,
              "#46039f"
             ],
             [
              0.2222222222222222,
              "#7201a8"
             ],
             [
              0.3333333333333333,
              "#9c179e"
             ],
             [
              0.4444444444444444,
              "#bd3786"
             ],
             [
              0.5555555555555556,
              "#d8576b"
             ],
             [
              0.6666666666666666,
              "#ed7953"
             ],
             [
              0.7777777777777778,
              "#fb9f3a"
             ],
             [
              0.8888888888888888,
              "#fdca26"
             ],
             [
              1,
              "#f0f921"
             ]
            ],
            "type": "contour"
           }
          ],
          "contourcarpet": [
           {
            "colorbar": {
             "outlinewidth": 0,
             "ticks": ""
            },
            "type": "contourcarpet"
           }
          ],
          "heatmap": [
           {
            "colorbar": {
             "outlinewidth": 0,
             "ticks": ""
            },
            "colorscale": [
             [
              0,
              "#0d0887"
             ],
             [
              0.1111111111111111,
              "#46039f"
             ],
             [
              0.2222222222222222,
              "#7201a8"
             ],
             [
              0.3333333333333333,
              "#9c179e"
             ],
             [
              0.4444444444444444,
              "#bd3786"
             ],
             [
              0.5555555555555556,
              "#d8576b"
             ],
             [
              0.6666666666666666,
              "#ed7953"
             ],
             [
              0.7777777777777778,
              "#fb9f3a"
             ],
             [
              0.8888888888888888,
              "#fdca26"
             ],
             [
              1,
              "#f0f921"
             ]
            ],
            "type": "heatmap"
           }
          ],
          "heatmapgl": [
           {
            "colorbar": {
             "outlinewidth": 0,
             "ticks": ""
            },
            "colorscale": [
             [
              0,
              "#0d0887"
             ],
             [
              0.1111111111111111,
              "#46039f"
             ],
             [
              0.2222222222222222,
              "#7201a8"
             ],
             [
              0.3333333333333333,
              "#9c179e"
             ],
             [
              0.4444444444444444,
              "#bd3786"
             ],
             [
              0.5555555555555556,
              "#d8576b"
             ],
             [
              0.6666666666666666,
              "#ed7953"
             ],
             [
              0.7777777777777778,
              "#fb9f3a"
             ],
             [
              0.8888888888888888,
              "#fdca26"
             ],
             [
              1,
              "#f0f921"
             ]
            ],
            "type": "heatmapgl"
           }
          ],
          "histogram": [
           {
            "marker": {
             "pattern": {
              "fillmode": "overlay",
              "size": 10,
              "solidity": 0.2
             }
            },
            "type": "histogram"
           }
          ],
          "histogram2d": [
           {
            "colorbar": {
             "outlinewidth": 0,
             "ticks": ""
            },
            "colorscale": [
             [
              0,
              "#0d0887"
             ],
             [
              0.1111111111111111,
              "#46039f"
             ],
             [
              0.2222222222222222,
              "#7201a8"
             ],
             [
              0.3333333333333333,
              "#9c179e"
             ],
             [
              0.4444444444444444,
              "#bd3786"
             ],
             [
              0.5555555555555556,
              "#d8576b"
             ],
             [
              0.6666666666666666,
              "#ed7953"
             ],
             [
              0.7777777777777778,
              "#fb9f3a"
             ],
             [
              0.8888888888888888,
              "#fdca26"
             ],
             [
              1,
              "#f0f921"
             ]
            ],
            "type": "histogram2d"
           }
          ],
          "histogram2dcontour": [
           {
            "colorbar": {
             "outlinewidth": 0,
             "ticks": ""
            },
            "colorscale": [
             [
              0,
              "#0d0887"
             ],
             [
              0.1111111111111111,
              "#46039f"
             ],
             [
              0.2222222222222222,
              "#7201a8"
             ],
             [
              0.3333333333333333,
              "#9c179e"
             ],
             [
              0.4444444444444444,
              "#bd3786"
             ],
             [
              0.5555555555555556,
              "#d8576b"
             ],
             [
              0.6666666666666666,
              "#ed7953"
             ],
             [
              0.7777777777777778,
              "#fb9f3a"
             ],
             [
              0.8888888888888888,
              "#fdca26"
             ],
             [
              1,
              "#f0f921"
             ]
            ],
            "type": "histogram2dcontour"
           }
          ],
          "mesh3d": [
           {
            "colorbar": {
             "outlinewidth": 0,
             "ticks": ""
            },
            "type": "mesh3d"
           }
          ],
          "parcoords": [
           {
            "line": {
             "colorbar": {
              "outlinewidth": 0,
              "ticks": ""
             }
            },
            "type": "parcoords"
           }
          ],
          "pie": [
           {
            "automargin": true,
            "type": "pie"
           }
          ],
          "scatter": [
           {
            "fillpattern": {
             "fillmode": "overlay",
             "size": 10,
             "solidity": 0.2
            },
            "type": "scatter"
           }
          ],
          "scatter3d": [
           {
            "line": {
             "colorbar": {
              "outlinewidth": 0,
              "ticks": ""
             }
            },
            "marker": {
             "colorbar": {
              "outlinewidth": 0,
              "ticks": ""
             }
            },
            "type": "scatter3d"
           }
          ],
          "scattercarpet": [
           {
            "marker": {
             "colorbar": {
              "outlinewidth": 0,
              "ticks": ""
             }
            },
            "type": "scattercarpet"
           }
          ],
          "scattergeo": [
           {
            "marker": {
             "colorbar": {
              "outlinewidth": 0,
              "ticks": ""
             }
            },
            "type": "scattergeo"
           }
          ],
          "scattergl": [
           {
            "marker": {
             "colorbar": {
              "outlinewidth": 0,
              "ticks": ""
             }
            },
            "type": "scattergl"
           }
          ],
          "scattermapbox": [
           {
            "marker": {
             "colorbar": {
              "outlinewidth": 0,
              "ticks": ""
             }
            },
            "type": "scattermapbox"
           }
          ],
          "scatterpolar": [
           {
            "marker": {
             "colorbar": {
              "outlinewidth": 0,
              "ticks": ""
             }
            },
            "type": "scatterpolar"
           }
          ],
          "scatterpolargl": [
           {
            "marker": {
             "colorbar": {
              "outlinewidth": 0,
              "ticks": ""
             }
            },
            "type": "scatterpolargl"
           }
          ],
          "scatterternary": [
           {
            "marker": {
             "colorbar": {
              "outlinewidth": 0,
              "ticks": ""
             }
            },
            "type": "scatterternary"
           }
          ],
          "surface": [
           {
            "colorbar": {
             "outlinewidth": 0,
             "ticks": ""
            },
            "colorscale": [
             [
              0,
              "#0d0887"
             ],
             [
              0.1111111111111111,
              "#46039f"
             ],
             [
              0.2222222222222222,
              "#7201a8"
             ],
             [
              0.3333333333333333,
              "#9c179e"
             ],
             [
              0.4444444444444444,
              "#bd3786"
             ],
             [
              0.5555555555555556,
              "#d8576b"
             ],
             [
              0.6666666666666666,
              "#ed7953"
             ],
             [
              0.7777777777777778,
              "#fb9f3a"
             ],
             [
              0.8888888888888888,
              "#fdca26"
             ],
             [
              1,
              "#f0f921"
             ]
            ],
            "type": "surface"
           }
          ],
          "table": [
           {
            "cells": {
             "fill": {
              "color": "#EBF0F8"
             },
             "line": {
              "color": "white"
             }
            },
            "header": {
             "fill": {
              "color": "#C8D4E3"
             },
             "line": {
              "color": "white"
             }
            },
            "type": "table"
           }
          ]
         },
         "layout": {
          "annotationdefaults": {
           "arrowcolor": "#2a3f5f",
           "arrowhead": 0,
           "arrowwidth": 1
          },
          "autotypenumbers": "strict",
          "coloraxis": {
           "colorbar": {
            "outlinewidth": 0,
            "ticks": ""
           }
          },
          "colorscale": {
           "diverging": [
            [
             0,
             "#8e0152"
            ],
            [
             0.1,
             "#c51b7d"
            ],
            [
             0.2,
             "#de77ae"
            ],
            [
             0.3,
             "#f1b6da"
            ],
            [
             0.4,
             "#fde0ef"
            ],
            [
             0.5,
             "#f7f7f7"
            ],
            [
             0.6,
             "#e6f5d0"
            ],
            [
             0.7,
             "#b8e186"
            ],
            [
             0.8,
             "#7fbc41"
            ],
            [
             0.9,
             "#4d9221"
            ],
            [
             1,
             "#276419"
            ]
           ],
           "sequential": [
            [
             0,
             "#0d0887"
            ],
            [
             0.1111111111111111,
             "#46039f"
            ],
            [
             0.2222222222222222,
             "#7201a8"
            ],
            [
             0.3333333333333333,
             "#9c179e"
            ],
            [
             0.4444444444444444,
             "#bd3786"
            ],
            [
             0.5555555555555556,
             "#d8576b"
            ],
            [
             0.6666666666666666,
             "#ed7953"
            ],
            [
             0.7777777777777778,
             "#fb9f3a"
            ],
            [
             0.8888888888888888,
             "#fdca26"
            ],
            [
             1,
             "#f0f921"
            ]
           ],
           "sequentialminus": [
            [
             0,
             "#0d0887"
            ],
            [
             0.1111111111111111,
             "#46039f"
            ],
            [
             0.2222222222222222,
             "#7201a8"
            ],
            [
             0.3333333333333333,
             "#9c179e"
            ],
            [
             0.4444444444444444,
             "#bd3786"
            ],
            [
             0.5555555555555556,
             "#d8576b"
            ],
            [
             0.6666666666666666,
             "#ed7953"
            ],
            [
             0.7777777777777778,
             "#fb9f3a"
            ],
            [
             0.8888888888888888,
             "#fdca26"
            ],
            [
             1,
             "#f0f921"
            ]
           ]
          },
          "colorway": [
           "#636efa",
           "#EF553B",
           "#00cc96",
           "#ab63fa",
           "#FFA15A",
           "#19d3f3",
           "#FF6692",
           "#B6E880",
           "#FF97FF",
           "#FECB52"
          ],
          "font": {
           "color": "#2a3f5f"
          },
          "geo": {
           "bgcolor": "white",
           "lakecolor": "white",
           "landcolor": "#E5ECF6",
           "showlakes": true,
           "showland": true,
           "subunitcolor": "white"
          },
          "hoverlabel": {
           "align": "left"
          },
          "hovermode": "closest",
          "mapbox": {
           "style": "light"
          },
          "paper_bgcolor": "white",
          "plot_bgcolor": "#E5ECF6",
          "polar": {
           "angularaxis": {
            "gridcolor": "white",
            "linecolor": "white",
            "ticks": ""
           },
           "bgcolor": "#E5ECF6",
           "radialaxis": {
            "gridcolor": "white",
            "linecolor": "white",
            "ticks": ""
           }
          },
          "scene": {
           "xaxis": {
            "backgroundcolor": "#E5ECF6",
            "gridcolor": "white",
            "gridwidth": 2,
            "linecolor": "white",
            "showbackground": true,
            "ticks": "",
            "zerolinecolor": "white"
           },
           "yaxis": {
            "backgroundcolor": "#E5ECF6",
            "gridcolor": "white",
            "gridwidth": 2,
            "linecolor": "white",
            "showbackground": true,
            "ticks": "",
            "zerolinecolor": "white"
           },
           "zaxis": {
            "backgroundcolor": "#E5ECF6",
            "gridcolor": "white",
            "gridwidth": 2,
            "linecolor": "white",
            "showbackground": true,
            "ticks": "",
            "zerolinecolor": "white"
           }
          },
          "shapedefaults": {
           "line": {
            "color": "#2a3f5f"
           }
          },
          "ternary": {
           "aaxis": {
            "gridcolor": "white",
            "linecolor": "white",
            "ticks": ""
           },
           "baxis": {
            "gridcolor": "white",
            "linecolor": "white",
            "ticks": ""
           },
           "bgcolor": "#E5ECF6",
           "caxis": {
            "gridcolor": "white",
            "linecolor": "white",
            "ticks": ""
           }
          },
          "title": {
           "x": 0.05
          },
          "xaxis": {
           "automargin": true,
           "gridcolor": "white",
           "linecolor": "white",
           "ticks": "",
           "title": {
            "standoff": 15
           },
           "zerolinecolor": "white",
           "zerolinewidth": 2
          },
          "yaxis": {
           "automargin": true,
           "gridcolor": "white",
           "linecolor": "white",
           "ticks": "",
           "title": {
            "standoff": 15
           },
           "zerolinecolor": "white",
           "zerolinewidth": 2
          }
         }
        }
       }
      },
      "text/html": [
       "<div>                            <div id=\"969a8ad4-8a3d-406c-8b63-ba58c113437c\" class=\"plotly-graph-div\" style=\"height:525px; width:100%;\"></div>            <script type=\"text/javascript\">                require([\"plotly\"], function(Plotly) {                    window.PLOTLYENV=window.PLOTLYENV || {};                                    if (document.getElementById(\"969a8ad4-8a3d-406c-8b63-ba58c113437c\")) {                    Plotly.newPlot(                        \"969a8ad4-8a3d-406c-8b63-ba58c113437c\",                        [{\"hole\":0.6,\"labels\":[0,1,2,3,4,5,6,7,8,9,10],\"title\":{\"text\":\"Distribution of labels in the dataset\"},\"values\":[625,1373,1272,402,387,1447,2587,576,1854,2524,4949],\"type\":\"pie\"}],                        {\"template\":{\"data\":{\"histogram2dcontour\":[{\"type\":\"histogram2dcontour\",\"colorbar\":{\"outlinewidth\":0,\"ticks\":\"\"},\"colorscale\":[[0.0,\"#0d0887\"],[0.1111111111111111,\"#46039f\"],[0.2222222222222222,\"#7201a8\"],[0.3333333333333333,\"#9c179e\"],[0.4444444444444444,\"#bd3786\"],[0.5555555555555556,\"#d8576b\"],[0.6666666666666666,\"#ed7953\"],[0.7777777777777778,\"#fb9f3a\"],[0.8888888888888888,\"#fdca26\"],[1.0,\"#f0f921\"]]}],\"choropleth\":[{\"type\":\"choropleth\",\"colorbar\":{\"outlinewidth\":0,\"ticks\":\"\"}}],\"histogram2d\":[{\"type\":\"histogram2d\",\"colorbar\":{\"outlinewidth\":0,\"ticks\":\"\"},\"colorscale\":[[0.0,\"#0d0887\"],[0.1111111111111111,\"#46039f\"],[0.2222222222222222,\"#7201a8\"],[0.3333333333333333,\"#9c179e\"],[0.4444444444444444,\"#bd3786\"],[0.5555555555555556,\"#d8576b\"],[0.6666666666666666,\"#ed7953\"],[0.7777777777777778,\"#fb9f3a\"],[0.8888888888888888,\"#fdca26\"],[1.0,\"#f0f921\"]]}],\"heatmap\":[{\"type\":\"heatmap\",\"colorbar\":{\"outlinewidth\":0,\"ticks\":\"\"},\"colorscale\":[[0.0,\"#0d0887\"],[0.1111111111111111,\"#46039f\"],[0.2222222222222222,\"#7201a8\"],[0.3333333333333333,\"#9c179e\"],[0.4444444444444444,\"#bd3786\"],[0.5555555555555556,\"#d8576b\"],[0.6666666666666666,\"#ed7953\"],[0.7777777777777778,\"#fb9f3a\"],[0.8888888888888888,\"#fdca26\"],[1.0,\"#f0f921\"]]}],\"heatmapgl\":[{\"type\":\"heatmapgl\",\"colorbar\":{\"outlinewidth\":0,\"ticks\":\"\"},\"colorscale\":[[0.0,\"#0d0887\"],[0.1111111111111111,\"#46039f\"],[0.2222222222222222,\"#7201a8\"],[0.3333333333333333,\"#9c179e\"],[0.4444444444444444,\"#bd3786\"],[0.5555555555555556,\"#d8576b\"],[0.6666666666666666,\"#ed7953\"],[0.7777777777777778,\"#fb9f3a\"],[0.8888888888888888,\"#fdca26\"],[1.0,\"#f0f921\"]]}],\"contourcarpet\":[{\"type\":\"contourcarpet\",\"colorbar\":{\"outlinewidth\":0,\"ticks\":\"\"}}],\"contour\":[{\"type\":\"contour\",\"colorbar\":{\"outlinewidth\":0,\"ticks\":\"\"},\"colorscale\":[[0.0,\"#0d0887\"],[0.1111111111111111,\"#46039f\"],[0.2222222222222222,\"#7201a8\"],[0.3333333333333333,\"#9c179e\"],[0.4444444444444444,\"#bd3786\"],[0.5555555555555556,\"#d8576b\"],[0.6666666666666666,\"#ed7953\"],[0.7777777777777778,\"#fb9f3a\"],[0.8888888888888888,\"#fdca26\"],[1.0,\"#f0f921\"]]}],\"surface\":[{\"type\":\"surface\",\"colorbar\":{\"outlinewidth\":0,\"ticks\":\"\"},\"colorscale\":[[0.0,\"#0d0887\"],[0.1111111111111111,\"#46039f\"],[0.2222222222222222,\"#7201a8\"],[0.3333333333333333,\"#9c179e\"],[0.4444444444444444,\"#bd3786\"],[0.5555555555555556,\"#d8576b\"],[0.6666666666666666,\"#ed7953\"],[0.7777777777777778,\"#fb9f3a\"],[0.8888888888888888,\"#fdca26\"],[1.0,\"#f0f921\"]]}],\"mesh3d\":[{\"type\":\"mesh3d\",\"colorbar\":{\"outlinewidth\":0,\"ticks\":\"\"}}],\"scatter\":[{\"fillpattern\":{\"fillmode\":\"overlay\",\"size\":10,\"solidity\":0.2},\"type\":\"scatter\"}],\"parcoords\":[{\"type\":\"parcoords\",\"line\":{\"colorbar\":{\"outlinewidth\":0,\"ticks\":\"\"}}}],\"scatterpolargl\":[{\"type\":\"scatterpolargl\",\"marker\":{\"colorbar\":{\"outlinewidth\":0,\"ticks\":\"\"}}}],\"bar\":[{\"error_x\":{\"color\":\"#2a3f5f\"},\"error_y\":{\"color\":\"#2a3f5f\"},\"marker\":{\"line\":{\"color\":\"#E5ECF6\",\"width\":0.5},\"pattern\":{\"fillmode\":\"overlay\",\"size\":10,\"solidity\":0.2}},\"type\":\"bar\"}],\"scattergeo\":[{\"type\":\"scattergeo\",\"marker\":{\"colorbar\":{\"outlinewidth\":0,\"ticks\":\"\"}}}],\"scatterpolar\":[{\"type\":\"scatterpolar\",\"marker\":{\"colorbar\":{\"outlinewidth\":0,\"ticks\":\"\"}}}],\"histogram\":[{\"marker\":{\"pattern\":{\"fillmode\":\"overlay\",\"size\":10,\"solidity\":0.2}},\"type\":\"histogram\"}],\"scattergl\":[{\"type\":\"scattergl\",\"marker\":{\"colorbar\":{\"outlinewidth\":0,\"ticks\":\"\"}}}],\"scatter3d\":[{\"type\":\"scatter3d\",\"line\":{\"colorbar\":{\"outlinewidth\":0,\"ticks\":\"\"}},\"marker\":{\"colorbar\":{\"outlinewidth\":0,\"ticks\":\"\"}}}],\"scattermapbox\":[{\"type\":\"scattermapbox\",\"marker\":{\"colorbar\":{\"outlinewidth\":0,\"ticks\":\"\"}}}],\"scatterternary\":[{\"type\":\"scatterternary\",\"marker\":{\"colorbar\":{\"outlinewidth\":0,\"ticks\":\"\"}}}],\"scattercarpet\":[{\"type\":\"scattercarpet\",\"marker\":{\"colorbar\":{\"outlinewidth\":0,\"ticks\":\"\"}}}],\"carpet\":[{\"aaxis\":{\"endlinecolor\":\"#2a3f5f\",\"gridcolor\":\"white\",\"linecolor\":\"white\",\"minorgridcolor\":\"white\",\"startlinecolor\":\"#2a3f5f\"},\"baxis\":{\"endlinecolor\":\"#2a3f5f\",\"gridcolor\":\"white\",\"linecolor\":\"white\",\"minorgridcolor\":\"white\",\"startlinecolor\":\"#2a3f5f\"},\"type\":\"carpet\"}],\"table\":[{\"cells\":{\"fill\":{\"color\":\"#EBF0F8\"},\"line\":{\"color\":\"white\"}},\"header\":{\"fill\":{\"color\":\"#C8D4E3\"},\"line\":{\"color\":\"white\"}},\"type\":\"table\"}],\"barpolar\":[{\"marker\":{\"line\":{\"color\":\"#E5ECF6\",\"width\":0.5},\"pattern\":{\"fillmode\":\"overlay\",\"size\":10,\"solidity\":0.2}},\"type\":\"barpolar\"}],\"pie\":[{\"automargin\":true,\"type\":\"pie\"}]},\"layout\":{\"autotypenumbers\":\"strict\",\"colorway\":[\"#636efa\",\"#EF553B\",\"#00cc96\",\"#ab63fa\",\"#FFA15A\",\"#19d3f3\",\"#FF6692\",\"#B6E880\",\"#FF97FF\",\"#FECB52\"],\"font\":{\"color\":\"#2a3f5f\"},\"hovermode\":\"closest\",\"hoverlabel\":{\"align\":\"left\"},\"paper_bgcolor\":\"white\",\"plot_bgcolor\":\"#E5ECF6\",\"polar\":{\"bgcolor\":\"#E5ECF6\",\"angularaxis\":{\"gridcolor\":\"white\",\"linecolor\":\"white\",\"ticks\":\"\"},\"radialaxis\":{\"gridcolor\":\"white\",\"linecolor\":\"white\",\"ticks\":\"\"}},\"ternary\":{\"bgcolor\":\"#E5ECF6\",\"aaxis\":{\"gridcolor\":\"white\",\"linecolor\":\"white\",\"ticks\":\"\"},\"baxis\":{\"gridcolor\":\"white\",\"linecolor\":\"white\",\"ticks\":\"\"},\"caxis\":{\"gridcolor\":\"white\",\"linecolor\":\"white\",\"ticks\":\"\"}},\"coloraxis\":{\"colorbar\":{\"outlinewidth\":0,\"ticks\":\"\"}},\"colorscale\":{\"sequential\":[[0.0,\"#0d0887\"],[0.1111111111111111,\"#46039f\"],[0.2222222222222222,\"#7201a8\"],[0.3333333333333333,\"#9c179e\"],[0.4444444444444444,\"#bd3786\"],[0.5555555555555556,\"#d8576b\"],[0.6666666666666666,\"#ed7953\"],[0.7777777777777778,\"#fb9f3a\"],[0.8888888888888888,\"#fdca26\"],[1.0,\"#f0f921\"]],\"sequentialminus\":[[0.0,\"#0d0887\"],[0.1111111111111111,\"#46039f\"],[0.2222222222222222,\"#7201a8\"],[0.3333333333333333,\"#9c179e\"],[0.4444444444444444,\"#bd3786\"],[0.5555555555555556,\"#d8576b\"],[0.6666666666666666,\"#ed7953\"],[0.7777777777777778,\"#fb9f3a\"],[0.8888888888888888,\"#fdca26\"],[1.0,\"#f0f921\"]],\"diverging\":[[0,\"#8e0152\"],[0.1,\"#c51b7d\"],[0.2,\"#de77ae\"],[0.3,\"#f1b6da\"],[0.4,\"#fde0ef\"],[0.5,\"#f7f7f7\"],[0.6,\"#e6f5d0\"],[0.7,\"#b8e186\"],[0.8,\"#7fbc41\"],[0.9,\"#4d9221\"],[1,\"#276419\"]]},\"xaxis\":{\"gridcolor\":\"white\",\"linecolor\":\"white\",\"ticks\":\"\",\"title\":{\"standoff\":15},\"zerolinecolor\":\"white\",\"automargin\":true,\"zerolinewidth\":2},\"yaxis\":{\"gridcolor\":\"white\",\"linecolor\":\"white\",\"ticks\":\"\",\"title\":{\"standoff\":15},\"zerolinecolor\":\"white\",\"automargin\":true,\"zerolinewidth\":2},\"scene\":{\"xaxis\":{\"backgroundcolor\":\"#E5ECF6\",\"gridcolor\":\"white\",\"linecolor\":\"white\",\"showbackground\":true,\"ticks\":\"\",\"zerolinecolor\":\"white\",\"gridwidth\":2},\"yaxis\":{\"backgroundcolor\":\"#E5ECF6\",\"gridcolor\":\"white\",\"linecolor\":\"white\",\"showbackground\":true,\"ticks\":\"\",\"zerolinecolor\":\"white\",\"gridwidth\":2},\"zaxis\":{\"backgroundcolor\":\"#E5ECF6\",\"gridcolor\":\"white\",\"linecolor\":\"white\",\"showbackground\":true,\"ticks\":\"\",\"zerolinecolor\":\"white\",\"gridwidth\":2}},\"shapedefaults\":{\"line\":{\"color\":\"#2a3f5f\"}},\"annotationdefaults\":{\"arrowcolor\":\"#2a3f5f\",\"arrowhead\":0,\"arrowwidth\":1},\"geo\":{\"bgcolor\":\"white\",\"landcolor\":\"#E5ECF6\",\"subunitcolor\":\"white\",\"showland\":true,\"showlakes\":true,\"lakecolor\":\"white\"},\"title\":{\"x\":0.05},\"mapbox\":{\"style\":\"light\"}}}},                        {\"responsive\": true}                    ).then(function(){\n",
       "                            \n",
       "var gd = document.getElementById('969a8ad4-8a3d-406c-8b63-ba58c113437c');\n",
       "var x = new MutationObserver(function (mutations, observer) {{\n",
       "        var display = window.getComputedStyle(gd).display;\n",
       "        if (!display || display === 'none') {{\n",
       "            console.log([gd, 'removed!']);\n",
       "            Plotly.purge(gd);\n",
       "            observer.disconnect();\n",
       "        }}\n",
       "}});\n",
       "\n",
       "// Listen for the removal of the full notebook cells\n",
       "var notebookContainer = gd.closest('#notebook-container');\n",
       "if (notebookContainer) {{\n",
       "    x.observe(notebookContainer, {childList: true});\n",
       "}}\n",
       "\n",
       "// Listen for the clearing of the current output cell\n",
       "var outputEl = gd.closest('.output');\n",
       "if (outputEl) {{\n",
       "    x.observe(outputEl, {childList: true});\n",
       "}}\n",
       "\n",
       "                        })                };                });            </script>        </div>"
      ]
     },
     "metadata": {},
     "output_type": "display_data"
    }
   ],
   "source": [
    "from plotly import graph_objs as go\n",
    "\n",
    "labels = target.groupby(target).size().index\n",
    "values = target.groupby(target).size().values\n",
    "fig = go.Figure(data=[go.Pie(labels=labels, values=values, hole=.6,title='Distribution of labels in the dataset')])\n",
    "fig.show()"
   ]
  },
  {
   "cell_type": "markdown",
   "id": "281a4142",
   "metadata": {},
   "source": [
    "Nous pouvons voir que la répartition des genres est très inégale. En effet, pour le genre portant le label 10, il concerne le quart du dataset. En revanche, les genres identifiés avec les labels 4, 3, 7 et 0 sont en quantité très faible (moins de 5% du dataset pour chacun d'entre eux)."
   ]
  },
  {
   "cell_type": "markdown",
   "id": "dfebf832",
   "metadata": {},
   "source": [
    "<h1  style = \"font-size:40px;background-color: Black ; color : White; text-align: center; border-radius: 20px 20px;\"> Classification</h1>"
   ]
  },
  {
   "cell_type": "markdown",
   "id": "a2474715",
   "metadata": {},
   "source": [
    "<h1  style = \"font-size:20px; color : Green; text-align: left;\">Classification : Séparation des données </h1>"
   ]
  },
  {
   "cell_type": "markdown",
   "id": "d13a6f8a",
   "metadata": {},
   "source": [
    "Afin que notre classifieur marche, il ne faut avoir que des données de type *int* ou *float*. Or, Ce dataset contient des données de type *object*. Il faut alors séparer le dataset afin de ne conserver que les données nécessaires."
   ]
  },
  {
   "cell_type": "code",
   "execution_count": 70,
   "id": "c7765f7c",
   "metadata": {},
   "outputs": [
    {
     "name": "stdout",
     "output_type": "stream",
     "text": [
      "<class 'pandas.core.frame.DataFrame'>\n",
      "RangeIndex: 17996 entries, 0 to 17995\n",
      "Columns: 11 entries, danceability to time_signature\n",
      "dtypes: float64(9), int64(2)\n",
      "memory usage: 1.5 MB\n",
      "None\n",
      "<class 'pandas.core.frame.DataFrame'>\n",
      "RangeIndex: 17996 entries, 0 to 17995\n",
      "Columns: 2 entries, Artist Name to Track Name\n",
      "dtypes: object(2)\n",
      "memory usage: 281.3+ KB\n",
      "None\n"
     ]
    }
   ],
   "source": [
    "def divide_numbers_strings(data: pd.DataFrame) -> (pd.DataFrame, pd.DataFrame):\n",
    "    \"\"\"\n",
    "    Divide data between features' computer types\n",
    "    \"\"\"\n",
    "\n",
    "    numbers_data = data.select_dtypes(['number'])\n",
    "    strings_data = data.select_dtypes(['object'])\n",
    "    return numbers_data, strings_data \n",
    "\n",
    "\n",
    "numbers_data, string_data = divide_numbers_strings(clean_data)\n",
    "\n",
    "print(numbers_data.info(verbose = False))\n",
    "print(string_data.info(verbose = False))"
   ]
  },
  {
   "cell_type": "code",
   "execution_count": 71,
   "id": "5023c46d",
   "metadata": {},
   "outputs": [
    {
     "data": {
      "text/html": [
       "<div>\n",
       "<style scoped>\n",
       "    .dataframe tbody tr th:only-of-type {\n",
       "        vertical-align: middle;\n",
       "    }\n",
       "\n",
       "    .dataframe tbody tr th {\n",
       "        vertical-align: top;\n",
       "    }\n",
       "\n",
       "    .dataframe thead th {\n",
       "        text-align: right;\n",
       "    }\n",
       "</style>\n",
       "<table border=\"1\" class=\"dataframe\">\n",
       "  <thead>\n",
       "    <tr style=\"text-align: right;\">\n",
       "      <th></th>\n",
       "      <th>danceability</th>\n",
       "      <th>energy</th>\n",
       "      <th>loudness</th>\n",
       "      <th>mode</th>\n",
       "      <th>speechiness</th>\n",
       "      <th>acousticness</th>\n",
       "      <th>liveness</th>\n",
       "      <th>valence</th>\n",
       "      <th>tempo</th>\n",
       "      <th>duration_in min/ms</th>\n",
       "      <th>time_signature</th>\n",
       "    </tr>\n",
       "  </thead>\n",
       "  <tbody>\n",
       "    <tr>\n",
       "      <th>0</th>\n",
       "      <td>0.854</td>\n",
       "      <td>0.564</td>\n",
       "      <td>-4.964</td>\n",
       "      <td>1</td>\n",
       "      <td>0.0485</td>\n",
       "      <td>0.017100</td>\n",
       "      <td>0.0849</td>\n",
       "      <td>0.8990</td>\n",
       "      <td>134.071</td>\n",
       "      <td>234596.0</td>\n",
       "      <td>4</td>\n",
       "    </tr>\n",
       "    <tr>\n",
       "      <th>1</th>\n",
       "      <td>0.382</td>\n",
       "      <td>0.814</td>\n",
       "      <td>-7.230</td>\n",
       "      <td>1</td>\n",
       "      <td>0.0406</td>\n",
       "      <td>0.001100</td>\n",
       "      <td>0.1010</td>\n",
       "      <td>0.5690</td>\n",
       "      <td>116.454</td>\n",
       "      <td>251733.0</td>\n",
       "      <td>4</td>\n",
       "    </tr>\n",
       "    <tr>\n",
       "      <th>2</th>\n",
       "      <td>0.434</td>\n",
       "      <td>0.614</td>\n",
       "      <td>-8.334</td>\n",
       "      <td>1</td>\n",
       "      <td>0.0525</td>\n",
       "      <td>0.486000</td>\n",
       "      <td>0.3940</td>\n",
       "      <td>0.7870</td>\n",
       "      <td>147.681</td>\n",
       "      <td>109667.0</td>\n",
       "      <td>4</td>\n",
       "    </tr>\n",
       "    <tr>\n",
       "      <th>3</th>\n",
       "      <td>0.853</td>\n",
       "      <td>0.597</td>\n",
       "      <td>-6.528</td>\n",
       "      <td>0</td>\n",
       "      <td>0.0555</td>\n",
       "      <td>0.021200</td>\n",
       "      <td>0.1220</td>\n",
       "      <td>0.5690</td>\n",
       "      <td>107.033</td>\n",
       "      <td>173968.0</td>\n",
       "      <td>4</td>\n",
       "    </tr>\n",
       "    <tr>\n",
       "      <th>4</th>\n",
       "      <td>0.167</td>\n",
       "      <td>0.975</td>\n",
       "      <td>-4.279</td>\n",
       "      <td>1</td>\n",
       "      <td>0.2160</td>\n",
       "      <td>0.000169</td>\n",
       "      <td>0.1720</td>\n",
       "      <td>0.0918</td>\n",
       "      <td>199.060</td>\n",
       "      <td>229960.0</td>\n",
       "      <td>4</td>\n",
       "    </tr>\n",
       "    <tr>\n",
       "      <th>...</th>\n",
       "      <td>...</td>\n",
       "      <td>...</td>\n",
       "      <td>...</td>\n",
       "      <td>...</td>\n",
       "      <td>...</td>\n",
       "      <td>...</td>\n",
       "      <td>...</td>\n",
       "      <td>...</td>\n",
       "      <td>...</td>\n",
       "      <td>...</td>\n",
       "      <td>...</td>\n",
       "    </tr>\n",
       "    <tr>\n",
       "      <th>17991</th>\n",
       "      <td>0.166</td>\n",
       "      <td>0.109</td>\n",
       "      <td>-17.100</td>\n",
       "      <td>0</td>\n",
       "      <td>0.0413</td>\n",
       "      <td>0.993000</td>\n",
       "      <td>0.0984</td>\n",
       "      <td>0.1770</td>\n",
       "      <td>171.587</td>\n",
       "      <td>193450.0</td>\n",
       "      <td>3</td>\n",
       "    </tr>\n",
       "    <tr>\n",
       "      <th>17992</th>\n",
       "      <td>0.638</td>\n",
       "      <td>0.223</td>\n",
       "      <td>-10.174</td>\n",
       "      <td>0</td>\n",
       "      <td>0.0329</td>\n",
       "      <td>0.858000</td>\n",
       "      <td>0.0705</td>\n",
       "      <td>0.3350</td>\n",
       "      <td>73.016</td>\n",
       "      <td>257067.0</td>\n",
       "      <td>4</td>\n",
       "    </tr>\n",
       "    <tr>\n",
       "      <th>17993</th>\n",
       "      <td>0.558</td>\n",
       "      <td>0.981</td>\n",
       "      <td>-4.683</td>\n",
       "      <td>0</td>\n",
       "      <td>0.0712</td>\n",
       "      <td>0.000030</td>\n",
       "      <td>0.6660</td>\n",
       "      <td>0.2620</td>\n",
       "      <td>105.000</td>\n",
       "      <td>216222.0</td>\n",
       "      <td>4</td>\n",
       "    </tr>\n",
       "    <tr>\n",
       "      <th>17994</th>\n",
       "      <td>0.215</td>\n",
       "      <td>0.805</td>\n",
       "      <td>-12.757</td>\n",
       "      <td>0</td>\n",
       "      <td>0.1340</td>\n",
       "      <td>0.001290</td>\n",
       "      <td>0.2560</td>\n",
       "      <td>0.3550</td>\n",
       "      <td>131.363</td>\n",
       "      <td>219693.0</td>\n",
       "      <td>4</td>\n",
       "    </tr>\n",
       "    <tr>\n",
       "      <th>17995</th>\n",
       "      <td>0.400</td>\n",
       "      <td>0.853</td>\n",
       "      <td>-5.320</td>\n",
       "      <td>0</td>\n",
       "      <td>0.0591</td>\n",
       "      <td>0.006040</td>\n",
       "      <td>0.3340</td>\n",
       "      <td>0.3770</td>\n",
       "      <td>138.102</td>\n",
       "      <td>182227.0</td>\n",
       "      <td>4</td>\n",
       "    </tr>\n",
       "  </tbody>\n",
       "</table>\n",
       "<p>17996 rows × 11 columns</p>\n",
       "</div>"
      ],
      "text/plain": [
       "       danceability  energy  loudness  mode  speechiness  acousticness  \\\n",
       "0             0.854   0.564    -4.964     1       0.0485      0.017100   \n",
       "1             0.382   0.814    -7.230     1       0.0406      0.001100   \n",
       "2             0.434   0.614    -8.334     1       0.0525      0.486000   \n",
       "3             0.853   0.597    -6.528     0       0.0555      0.021200   \n",
       "4             0.167   0.975    -4.279     1       0.2160      0.000169   \n",
       "...             ...     ...       ...   ...          ...           ...   \n",
       "17991         0.166   0.109   -17.100     0       0.0413      0.993000   \n",
       "17992         0.638   0.223   -10.174     0       0.0329      0.858000   \n",
       "17993         0.558   0.981    -4.683     0       0.0712      0.000030   \n",
       "17994         0.215   0.805   -12.757     0       0.1340      0.001290   \n",
       "17995         0.400   0.853    -5.320     0       0.0591      0.006040   \n",
       "\n",
       "       liveness  valence    tempo  duration_in min/ms  time_signature  \n",
       "0        0.0849   0.8990  134.071            234596.0               4  \n",
       "1        0.1010   0.5690  116.454            251733.0               4  \n",
       "2        0.3940   0.7870  147.681            109667.0               4  \n",
       "3        0.1220   0.5690  107.033            173968.0               4  \n",
       "4        0.1720   0.0918  199.060            229960.0               4  \n",
       "...         ...      ...      ...                 ...             ...  \n",
       "17991    0.0984   0.1770  171.587            193450.0               3  \n",
       "17992    0.0705   0.3350   73.016            257067.0               4  \n",
       "17993    0.6660   0.2620  105.000            216222.0               4  \n",
       "17994    0.2560   0.3550  131.363            219693.0               4  \n",
       "17995    0.3340   0.3770  138.102            182227.0               4  \n",
       "\n",
       "[17996 rows x 11 columns]"
      ]
     },
     "execution_count": 71,
     "metadata": {},
     "output_type": "execute_result"
    }
   ],
   "source": [
    "# Affichage des données conservées\n",
    "numbers_data"
   ]
  },
  {
   "cell_type": "markdown",
   "id": "a489616e",
   "metadata": {},
   "source": [
    "<h1  style = \"font-size:20px; color : Green; text-align: left;\">Classification : Entraînement et test de notre classifieur</h1>"
   ]
  },
  {
   "cell_type": "markdown",
   "id": "45107b4c",
   "metadata": {},
   "source": [
    "Afin d'avoir un suivi de notre classifieur nous créerons deux listes : \n",
    "* **condition**: Amélioration/Modification effectuées sur les données;\n",
    "* **accuracy**: Suivi des accuracy obtenues au fur et à mesure de notre phase d'entraînement."
   ]
  },
  {
   "cell_type": "code",
   "execution_count": 72,
   "id": "2372194a",
   "metadata": {},
   "outputs": [],
   "source": [
    "condition = []\n",
    "accuracy = []"
   ]
  },
  {
   "cell_type": "markdown",
   "id": "5482bdb7",
   "metadata": {},
   "source": [
    "Nous allons découper notre dataset en deux sous-dataset. Il y aura le dataset d'entraînement et le dataset de test. Ils seront découpés avec une proportion 80/20."
   ]
  },
  {
   "cell_type": "code",
   "execution_count": 73,
   "id": "af4ba8f2",
   "metadata": {},
   "outputs": [],
   "source": [
    "# Découpage de notre dataset en échantillon d'entraînement et de test\n",
    "train, test, y_train, y_test = train_test_split(numbers_data, target, test_size = 0.20, random_state =500)"
   ]
  },
  {
   "cell_type": "markdown",
   "id": "ea85729b",
   "metadata": {},
   "source": [
    "Nous allons utiliser un modèle de Support Vector Machine. Pour résumer, un *SVM* est un modèle d'apprentissage supervisé qui est utilisé pour une classification multi-classes. Pour illustrer, le modèle sépare les différentes classes dans un plan via une frontière."
   ]
  },
  {
   "cell_type": "code",
   "execution_count": 74,
   "id": "c276e6d4",
   "metadata": {},
   "outputs": [],
   "source": [
    "# Définition du modèle\n",
    "model = SVC()\n",
    "\n",
    "#Entraînement du model\n",
    "model_fit = model.fit(train, y_train)\n",
    "\n",
    "#Prédiction de nos classes\n",
    "y_pred = model_fit.predict(test)"
   ]
  },
  {
   "cell_type": "code",
   "execution_count": 75,
   "id": "5bac800b",
   "metadata": {},
   "outputs": [
    {
     "name": "stdout",
     "output_type": "stream",
     "text": [
      "0.3025\n"
     ]
    }
   ],
   "source": [
    "# Affichage de l'accuracy\n",
    "acc = accuracy_score(y_test, y_pred)\n",
    "print(acc)"
   ]
  },
  {
   "cell_type": "code",
   "execution_count": 76,
   "id": "267cd97a",
   "metadata": {},
   "outputs": [],
   "source": [
    "#Ajout de l'accuracy trouvée et de la condition d'utilisation du classifieur\n",
    "accuracy.append(acc)\n",
    "condition.append('SVM classique avec NaN retirés par les colonnes')"
   ]
  },
  {
   "cell_type": "markdown",
   "id": "de7b78d8",
   "metadata": {},
   "source": [
    "Nous avons ainsi effectué la construction de notre modèle. Voyons maintenant si on peut l'améliorer via différentes techniques."
   ]
  },
  {
   "cell_type": "markdown",
   "id": "84d7a110",
   "metadata": {},
   "source": [
    "<h1  style = \"font-size:20px; color : Green; text-align: left;\">Classification : Conversion des NaN en 0</h1>"
   ]
  },
  {
   "cell_type": "markdown",
   "id": "9bd88bec",
   "metadata": {},
   "source": [
    "Afin d'optimiser notre modèle, nous allons remplacer les *NaN* par la valeur 0 et ainsi voir si cela apporte une amélioration sur la valeur de notre accuracy. "
   ]
  },
  {
   "cell_type": "code",
   "execution_count": 77,
   "id": "bea3160d",
   "metadata": {},
   "outputs": [],
   "source": [
    "# Fonction qui remplace les valeurs NaN par des 0\n",
    "def Nan(df):\n",
    "    data = df.copy()\n",
    "    data.fillna(0, inplace = True)\n",
    "    \n",
    "    return data\n",
    "\n",
    "data_nan_0 = Nan(df)    "
   ]
  },
  {
   "cell_type": "code",
   "execution_count": 78,
   "id": "27ad07fd",
   "metadata": {},
   "outputs": [
    {
     "data": {
      "text/plain": [
       "Artist Name           0\n",
       "Track Name            0\n",
       "Popularity            0\n",
       "danceability          0\n",
       "energy                0\n",
       "key                   0\n",
       "loudness              0\n",
       "mode                  0\n",
       "speechiness           0\n",
       "acousticness          0\n",
       "instrumentalness      0\n",
       "liveness              0\n",
       "valence               0\n",
       "tempo                 0\n",
       "duration_in min/ms    0\n",
       "time_signature        0\n",
       "dtype: int64"
      ]
     },
     "execution_count": 78,
     "metadata": {},
     "output_type": "execute_result"
    }
   ],
   "source": [
    "# Vérification de la présence des NaN\n",
    "data_nan_0.isna().sum()"
   ]
  },
  {
   "cell_type": "code",
   "execution_count": 79,
   "id": "ac4010d9",
   "metadata": {},
   "outputs": [],
   "source": [
    "# Séparation des données avec un datasat des int/float et des données de type object\n",
    "data_nan_0_numbers, data_nan_0_string = divide_numbers_strings(data_nan_0)"
   ]
  },
  {
   "cell_type": "code",
   "execution_count": 80,
   "id": "236ddf92",
   "metadata": {},
   "outputs": [],
   "source": [
    "# Création des dataset associés au changement des NaN\n",
    "train0, test0, y_train0, y_test0 = train_test_split(data_nan_0_numbers, target, test_size = 0.20, random_state =500)"
   ]
  },
  {
   "cell_type": "code",
   "execution_count": 81,
   "id": "c1ac2672",
   "metadata": {},
   "outputs": [
    {
     "name": "stdout",
     "output_type": "stream",
     "text": [
      "0.3025\n"
     ]
    }
   ],
   "source": [
    "#Entraînement et prédiction du modèle\n",
    "model = SVC()\n",
    "model_fit = model.fit(train0, y_train0)\n",
    "y_pred = model_fit.predict(test0)\n",
    "acc = accuracy_score(y_test0, y_pred)\n",
    "print(acc)"
   ]
  },
  {
   "cell_type": "code",
   "execution_count": 82,
   "id": "42cb3262",
   "metadata": {},
   "outputs": [],
   "source": [
    "accuracy.append(acc)\n",
    "condition.append('NaN convertis en 0')"
   ]
  },
  {
   "cell_type": "markdown",
   "id": "99a4ef5e",
   "metadata": {},
   "source": [
    "<h1  style = \"font-size:20px; color : Green; text-align: left;\">Classification : Conversion des NaN par la moyenne des colonnes</h1>"
   ]
  },
  {
   "cell_type": "markdown",
   "id": "d8ee0f46",
   "metadata": {},
   "source": [
    "Afin d'optimiser notre modèle, nous allons remplacer les *NaN* par la valeur 0 et ainsi voir si cela apporte une amélioration sur la valeur de notre accuracy. "
   ]
  },
  {
   "cell_type": "code",
   "execution_count": 83,
   "id": "bef63b7c",
   "metadata": {},
   "outputs": [
    {
     "name": "stderr",
     "output_type": "stream",
     "text": [
      "C:\\Users\\33666\\AppData\\Local\\Temp\\ipykernel_68880\\3322136990.py:4: FutureWarning:\n",
      "\n",
      "The default value of numeric_only in DataFrame.mean is deprecated. In a future version, it will default to False. In addition, specifying 'numeric_only=None' is deprecated. Select only valid columns or specify the value of numeric_only to silence this warning.\n",
      "\n"
     ]
    }
   ],
   "source": [
    "# Fonction qui remplace les valeurs NaN par la moyenne\n",
    "def mean(df):\n",
    "    data = df.copy()\n",
    "    data.fillna(df.mean(), inplace = True)\n",
    "    \n",
    "    return data\n",
    "\n",
    "data_mean = mean(df) "
   ]
  },
  {
   "cell_type": "code",
   "execution_count": 84,
   "id": "c9bac3a3",
   "metadata": {},
   "outputs": [],
   "source": [
    "# Séparation des données avec un datasat des int/float et des données de type object\n",
    "data_mean_numbers, data_mean_string = divide_numbers_strings(data_mean)"
   ]
  },
  {
   "cell_type": "code",
   "execution_count": 85,
   "id": "33ce1f9b",
   "metadata": {},
   "outputs": [],
   "source": [
    "# Création des dataset associés au changement des NaN\n",
    "train_mean, test_mean, y_train_mean, y_test_mean = train_test_split(data_mean_numbers, target, test_size = 0.20, random_state =500)"
   ]
  },
  {
   "cell_type": "code",
   "execution_count": 86,
   "id": "2e1fe79f",
   "metadata": {},
   "outputs": [
    {
     "name": "stdout",
     "output_type": "stream",
     "text": [
      "0.3025\n"
     ]
    }
   ],
   "source": [
    "# Entraînement du modèle et prédiction\n",
    "model = SVC()\n",
    "model_fit = model.fit(train_mean, y_train_mean)\n",
    "y_pred = model_fit.predict(test_mean)\n",
    "acc = accuracy_score(y_test_mean, y_pred)\n",
    "print(acc)"
   ]
  },
  {
   "cell_type": "code",
   "execution_count": 87,
   "id": "6175cf1e",
   "metadata": {},
   "outputs": [],
   "source": [
    "accuracy.append(acc)\n",
    "condition.append('nan remplacés par la moyenne des colonnes')"
   ]
  },
  {
   "cell_type": "code",
   "execution_count": 88,
   "id": "4ea14d6e",
   "metadata": {},
   "outputs": [
    {
     "name": "stdout",
     "output_type": "stream",
     "text": [
      "[0.3025, 0.3025, 0.3025] ['SVM classique avec NaN retirés par les colonnes', 'NaN convertis en 0', 'nan remplacés par la moyenne des colonnes']\n"
     ]
    }
   ],
   "source": [
    "print(accuracy, condition)"
   ]
  },
  {
   "cell_type": "markdown",
   "id": "838cfccf",
   "metadata": {},
   "source": [
    "Il semblerait que remplacer les NaN par la moyenne des colonnes concernées ou par 0 n'a pas d'incidence sur notre accuracy. Nous allons alors utiliser d'autres techniques afin d'améliorer celle-ci."
   ]
  },
  {
   "cell_type": "markdown",
   "id": "0ee5b0ed",
   "metadata": {},
   "source": [
    "<h1  style = \"font-size:20px; color : Green; text-align: left;\">Classification : Utilisation de la méthode OneVsRest</h1>"
   ]
  },
  {
   "cell_type": "markdown",
   "id": "5ceaf570",
   "metadata": {},
   "source": [
    "La méthode **OneVsRest** est utilisée dans des problèmes de classification multi-classes. Cette méthode découpe le dataset en un problème de classification binaire. Chaque classe sera évaluée en comparaison avec toutes les autres classes en même temps.  \n",
    "Un classifieur binaire est ensuite entraîné sur chaque problème de classification binaire et les prédictions sont faites en utilisant le modèle le plus fiable."
   ]
  },
  {
   "cell_type": "code",
   "execution_count": 89,
   "id": "425512a4",
   "metadata": {},
   "outputs": [],
   "source": [
    "#Nous redéfinissons nos sous-datasets avec les colonnes comportant des NaN retirées\n",
    "train, test, y_train, y_test = train_test_split(numbers_data, target, test_size = 0.20, random_state =500)"
   ]
  },
  {
   "cell_type": "code",
   "execution_count": 90,
   "id": "aaec2efe",
   "metadata": {},
   "outputs": [
    {
     "name": "stdout",
     "output_type": "stream",
     "text": [
      "0.10111111111111111\n"
     ]
    }
   ],
   "source": [
    "#Entraînement et prédictions de notre modèle \n",
    "model = OneVsRestClassifier(SVC())\n",
    "model_fit = model.fit(train, y_train)\n",
    "y_pred = model_fit.predict(test)\n",
    "acc = accuracy_score(y_test, y_pred)\n",
    "print(acc)"
   ]
  },
  {
   "cell_type": "markdown",
   "id": "a5f9ee54",
   "metadata": {},
   "source": [
    "La méthode OneVsRest n'a pas été performante comme nous pouvons le constater avec le score obtenu ci-dessus. "
   ]
  },
  {
   "cell_type": "code",
   "execution_count": 91,
   "id": "4905a4c1",
   "metadata": {},
   "outputs": [],
   "source": [
    "accuracy.append(acc)\n",
    "condition.append('OneVsRestClassifier')"
   ]
  },
  {
   "cell_type": "markdown",
   "id": "a415a0b4",
   "metadata": {},
   "source": [
    "<h1  style = \"font-size:20px; color : Green; text-align: left;\">Classification : Utilisation de la méthode OneVsOne</h1>"
   ]
  },
  {
   "cell_type": "markdown",
   "id": "5030f2db",
   "metadata": {},
   "source": [
    "Nous utilisons maintenant la méthode **OneVsOne**. Elle est également utilisée dans des problèmes de classification multi-classes. Cette méthode découpe le dataset en un problème de classification binaire. En revanche, chaque classe sera évaluée en comparaison avec toutes les autres classes une par une.  \n",
    "Un classifieur binaire est ensuite entraîné sur chaque problème de classification binaire et les prédictions sont faites en fonction de la classe la plus présente."
   ]
  },
  {
   "cell_type": "code",
   "execution_count": 92,
   "id": "a5d47539",
   "metadata": {},
   "outputs": [
    {
     "name": "stdout",
     "output_type": "stream",
     "text": [
      "0.32305555555555554\n"
     ]
    }
   ],
   "source": [
    "#Entraînement et prédictions du modèle\n",
    "model = OneVsOneClassifier(SVC())\n",
    "model_fit = model.fit(train, y_train)\n",
    "y_pred = model_fit.predict(test)\n",
    "acc = accuracy_score(y_test, y_pred)\n",
    "print(acc)"
   ]
  },
  {
   "cell_type": "markdown",
   "id": "325806a0",
   "metadata": {},
   "source": [
    "L'accuracy est légèrement meilleure. Nous allons alors conserver cette méthode pour la suite."
   ]
  },
  {
   "cell_type": "code",
   "execution_count": 93,
   "id": "bab345b5",
   "metadata": {},
   "outputs": [],
   "source": [
    "accuracy.append(acc)\n",
    "condition.append('OneVsOneClassifier')"
   ]
  },
  {
   "cell_type": "markdown",
   "id": "a556aa29",
   "metadata": {},
   "source": [
    "<h1  style = \"font-size:20px; color : Green; text-align: left;\">Classification : Utilisation de la méthode gridSearch</h1>"
   ]
  },
  {
   "cell_type": "markdown",
   "id": "57626181",
   "metadata": {},
   "source": [
    "Une autre technique intéressante à utiliser est la méthode GridSearch. Cependant l'utilisation de cette méthode était longue. Nous avons alors programmé une méthode de gridSearch manuelle.  \n",
    "Cette méthode sert à trouver les meilleurs paramètres permettant d'optimiser au maximum le score de notre modèle."
   ]
  },
  {
   "cell_type": "code",
   "execution_count": 94,
   "id": "1a4c127e",
   "metadata": {},
   "outputs": [],
   "source": [
    "from sklearn.model_selection import GridSearchCV"
   ]
  },
  {
   "cell_type": "code",
   "execution_count": 95,
   "id": "e1f4f447",
   "metadata": {},
   "outputs": [],
   "source": [
    "# grid = {'kernel' : ['linear', 'poly', 'rbf'],\n",
    "#        'degree' : [1, 2, 3, 4, 5],\n",
    "#        'tol' : [1e-1, 1e-2, 1e-3, 1e-4, 1e-5],\n",
    "#        'cache_size' : [100, 200, 500]\n",
    "#        }"
   ]
  },
  {
   "cell_type": "code",
   "execution_count": 96,
   "id": "de33e71b",
   "metadata": {},
   "outputs": [],
   "source": [
    "kernel = ['linear', 'poly', 'rbf']\n",
    "degree = [1, 2, 3, 4, 5]\n",
    "tol = [1e-1, 1e-2, 1e-3, 1e-4, 1e-5]\n",
    "cache_size = [100, 200, 500]"
   ]
  },
  {
   "cell_type": "code",
   "execution_count": 97,
   "id": "186a2c08",
   "metadata": {},
   "outputs": [],
   "source": [
    "# best_accuracy = 0\n",
    "# compteur = 0\n",
    "# for i in range(len(kernel)):\n",
    "#     for j in range(len(degree)):\n",
    "#         for k in range(len(tol)):\n",
    "#             for l in range(len(cache_size)):\n",
    "#                 model = OneVsOneClassifier(SVC(kernel = kernel[i], degree = degree[j], tol = tol[k], cache_size = cache_size[l]))\n",
    "#                 model_fit = model.fit(train, y_train)\n",
    "#                 y_pred = model_fit.predict(test)  \n",
    "#                 accuracy = accuracy_score(y_test, y_pred)\n",
    "                \n",
    "#                 compteur = compteur + 1\n",
    "#                 print(compteur)\n",
    "#                 if best_accuracy < accuracy:\n",
    "#                     best_accuracy = accuracy\n",
    "                    \n",
    "#                     k, d, t, c = kernel[i], degree[j], tol[k], cache_size[l]\n",
    "#                     print('Les paramètres les plus performants sont : kernel ', k, ', degree =', d, ', tol =', t, ', cache_size =', c)\n",
    "                \n",
    "#                     print('La meilleure accuracy obtenue est : ', best_accuracy)\n",
    "                    \n",
    "                    \n",
    "# print('Les paramètres les plus performants sont : kernel ', k, ', degree =', d, ', tol =', t, ', cache_size =', c)               \n",
    "# print('La meilleure accuracy obtenue est : ', best_accuracy)"
   ]
  },
  {
   "cell_type": "code",
   "execution_count": 98,
   "id": "10f42708",
   "metadata": {},
   "outputs": [],
   "source": [
    "# #model = GridSearchCV(OneVsOneClassifier(SVC()), grid)\n",
    "# model = OneVsOneClassifier(SVC(kernel = k, degree = d, tol = t, cache_size = c))\n",
    "# model_fit = model.fit(train, y_train)\n",
    "# y_pred = model_fit.predict(test)\n",
    "# acc = accuracy_score(y_test, y_pred)\n",
    "# print(acc)\n",
    "\n",
    "# accuracy.append(acc)\n",
    "# condition.append('gridSearch manuel')"
   ]
  },
  {
   "cell_type": "code",
   "execution_count": 99,
   "id": "69fcaf3e",
   "metadata": {},
   "outputs": [],
   "source": [
    "# model = GridSearchCV(OneVsOneClassifier(SVC()), grid)\n",
    "# model_fit = model.fit(train, y_train)\n",
    "# y_pred = model_fit.predict(test)\n",
    "# acc = accuracy_score(y_test, y_pred)\n",
    "# print(acc)\n",
    "# print(model_fit.best_params_)\n",
    "\n",
    "# accuracy.append(acc)\n",
    "# condition.append('GridSearch classique')"
   ]
  },
  {
   "cell_type": "markdown",
   "id": "9831e3cb",
   "metadata": {},
   "source": [
    "Cette méthode a également était trop longue. la cellule a tourné pendant une dizaine d'heure sans pour autant renvoyer un résultat."
   ]
  },
  {
   "cell_type": "markdown",
   "id": "fef6821b",
   "metadata": {},
   "source": [
    "<h1  style = \"font-size:20px; color : Green; text-align: left;\">Classification : Prédiction avec les données normalisées</h1>"
   ]
  },
  {
   "cell_type": "markdown",
   "id": "1e184afa",
   "metadata": {},
   "source": [
    "Nous allons normaliser les données afin de voir si cela a un effet sur nos prédictions. Nous utiliserons la normalisation via l'usage du minimum et du maximum de chaque colonne."
   ]
  },
  {
   "cell_type": "code",
   "execution_count": 100,
   "id": "0a09e9f2",
   "metadata": {},
   "outputs": [
    {
     "data": {
      "text/html": [
       "<div>\n",
       "<style scoped>\n",
       "    .dataframe tbody tr th:only-of-type {\n",
       "        vertical-align: middle;\n",
       "    }\n",
       "\n",
       "    .dataframe tbody tr th {\n",
       "        vertical-align: top;\n",
       "    }\n",
       "\n",
       "    .dataframe thead th {\n",
       "        text-align: right;\n",
       "    }\n",
       "</style>\n",
       "<table border=\"1\" class=\"dataframe\">\n",
       "  <thead>\n",
       "    <tr style=\"text-align: right;\">\n",
       "      <th></th>\n",
       "      <th>danceability</th>\n",
       "      <th>energy</th>\n",
       "      <th>loudness</th>\n",
       "      <th>mode</th>\n",
       "      <th>speechiness</th>\n",
       "      <th>acousticness</th>\n",
       "      <th>liveness</th>\n",
       "      <th>valence</th>\n",
       "      <th>tempo</th>\n",
       "      <th>duration_in min/ms</th>\n",
       "      <th>time_signature</th>\n",
       "    </tr>\n",
       "  </thead>\n",
       "  <tbody>\n",
       "    <tr>\n",
       "      <th>count</th>\n",
       "      <td>17996.000000</td>\n",
       "      <td>17996.000000</td>\n",
       "      <td>17996.000000</td>\n",
       "      <td>17996.000000</td>\n",
       "      <td>17996.000000</td>\n",
       "      <td>17996.000000</td>\n",
       "      <td>17996.000000</td>\n",
       "      <td>17996.000000</td>\n",
       "      <td>17996.000000</td>\n",
       "      <td>17996.000000</td>\n",
       "      <td>17996.000000</td>\n",
       "    </tr>\n",
       "    <tr>\n",
       "      <th>mean</th>\n",
       "      <td>0.520587</td>\n",
       "      <td>0.662770</td>\n",
       "      <td>0.775688</td>\n",
       "      <td>0.636753</td>\n",
       "      <td>0.061348</td>\n",
       "      <td>0.248074</td>\n",
       "      <td>0.186489</td>\n",
       "      <td>0.483526</td>\n",
       "      <td>0.492705</td>\n",
       "      <td>0.135896</td>\n",
       "      <td>0.731010</td>\n",
       "    </tr>\n",
       "    <tr>\n",
       "      <th>std</th>\n",
       "      <td>0.178899</td>\n",
       "      <td>0.235378</td>\n",
       "      <td>0.098026</td>\n",
       "      <td>0.480949</td>\n",
       "      <td>0.089626</td>\n",
       "      <td>0.311880</td>\n",
       "      <td>0.161129</td>\n",
       "      <td>0.248213</td>\n",
       "      <td>0.158256</td>\n",
       "      <td>0.075812</td>\n",
       "      <td>0.090404</td>\n",
       "    </tr>\n",
       "    <tr>\n",
       "      <th>min</th>\n",
       "      <td>0.000000</td>\n",
       "      <td>0.000000</td>\n",
       "      <td>0.000000</td>\n",
       "      <td>0.000000</td>\n",
       "      <td>0.000000</td>\n",
       "      <td>0.000000</td>\n",
       "      <td>0.000000</td>\n",
       "      <td>0.000000</td>\n",
       "      <td>0.000000</td>\n",
       "      <td>0.000000</td>\n",
       "      <td>0.000000</td>\n",
       "    </tr>\n",
       "    <tr>\n",
       "      <th>25%</th>\n",
       "      <td>0.400689</td>\n",
       "      <td>0.508990</td>\n",
       "      <td>0.736292</td>\n",
       "      <td>0.000000</td>\n",
       "      <td>0.013190</td>\n",
       "      <td>0.004317</td>\n",
       "      <td>0.086631</td>\n",
       "      <td>0.288002</td>\n",
       "      <td>0.369604</td>\n",
       "      <td>0.112604</td>\n",
       "      <td>0.750000</td>\n",
       "    </tr>\n",
       "    <tr>\n",
       "      <th>50%</th>\n",
       "      <td>0.522272</td>\n",
       "      <td>0.699994</td>\n",
       "      <td>0.797347</td>\n",
       "      <td>1.000000</td>\n",
       "      <td>0.026702</td>\n",
       "      <td>0.081727</td>\n",
       "      <td>0.118510</td>\n",
       "      <td>0.478144</td>\n",
       "      <td>0.479016</td>\n",
       "      <td>0.141593</td>\n",
       "      <td>0.750000</td>\n",
       "    </tr>\n",
       "    <tr>\n",
       "      <th>75%</th>\n",
       "      <td>0.644932</td>\n",
       "      <td>0.859997</td>\n",
       "      <td>0.841576</td>\n",
       "      <td>1.000000</td>\n",
       "      <td>0.064879</td>\n",
       "      <td>0.435743</td>\n",
       "      <td>0.249064</td>\n",
       "      <td>0.675519</td>\n",
       "      <td>0.596237</td>\n",
       "      <td>0.170926</td>\n",
       "      <td>0.750000</td>\n",
       "    </tr>\n",
       "    <tr>\n",
       "      <th>max</th>\n",
       "      <td>1.000000</td>\n",
       "      <td>1.000000</td>\n",
       "      <td>1.000000</td>\n",
       "      <td>1.000000</td>\n",
       "      <td>1.000000</td>\n",
       "      <td>1.000000</td>\n",
       "      <td>1.000000</td>\n",
       "      <td>1.000000</td>\n",
       "      <td>1.000000</td>\n",
       "      <td>1.000000</td>\n",
       "      <td>1.000000</td>\n",
       "    </tr>\n",
       "  </tbody>\n",
       "</table>\n",
       "</div>"
      ],
      "text/plain": [
       "       danceability        energy      loudness          mode   speechiness  \\\n",
       "count  17996.000000  17996.000000  17996.000000  17996.000000  17996.000000   \n",
       "mean       0.520587      0.662770      0.775688      0.636753      0.061348   \n",
       "std        0.178899      0.235378      0.098026      0.480949      0.089626   \n",
       "min        0.000000      0.000000      0.000000      0.000000      0.000000   \n",
       "25%        0.400689      0.508990      0.736292      0.000000      0.013190   \n",
       "50%        0.522272      0.699994      0.797347      1.000000      0.026702   \n",
       "75%        0.644932      0.859997      0.841576      1.000000      0.064879   \n",
       "max        1.000000      1.000000      1.000000      1.000000      1.000000   \n",
       "\n",
       "       acousticness      liveness       valence         tempo  \\\n",
       "count  17996.000000  17996.000000  17996.000000  17996.000000   \n",
       "mean       0.248074      0.186489      0.483526      0.492705   \n",
       "std        0.311880      0.161129      0.248213      0.158256   \n",
       "min        0.000000      0.000000      0.000000      0.000000   \n",
       "25%        0.004317      0.086631      0.288002      0.369604   \n",
       "50%        0.081727      0.118510      0.478144      0.479016   \n",
       "75%        0.435743      0.249064      0.675519      0.596237   \n",
       "max        1.000000      1.000000      1.000000      1.000000   \n",
       "\n",
       "       duration_in min/ms  time_signature  \n",
       "count        17996.000000    17996.000000  \n",
       "mean             0.135896        0.731010  \n",
       "std              0.075812        0.090404  \n",
       "min              0.000000        0.000000  \n",
       "25%              0.112604        0.750000  \n",
       "50%              0.141593        0.750000  \n",
       "75%              0.170926        0.750000  \n",
       "max              1.000000        1.000000  "
      ]
     },
     "execution_count": 100,
     "metadata": {},
     "output_type": "execute_result"
    }
   ],
   "source": [
    "def min_max_scaling(data: pd.DataFrame, data_min: pd.Series = None, data_max: pd.Series = None) -> pd.DataFrame:\n",
    "    \"\"\"\n",
    "    Normalize a DataFrame using a min-max scaling.\n",
    "    \"\"\"\n",
    "    if data_min is None:\n",
    "        mini = data.min(axis=0)\n",
    "    if data_max is None:\n",
    "        maxi = data.max(axis=0) \n",
    "    \n",
    "    numerateur = data - mini\n",
    "    denominateur = maxi - mini\n",
    "    normalisation = numerateur/denominateur\n",
    "\n",
    "    return normalisation  \n",
    "\n",
    "\n",
    "# Normalize\n",
    "scaled_numerical_data = min_max_scaling(numbers_data)  \n",
    "\n",
    "# Verify\n",
    "scaled_numerical_data.describe()"
   ]
  },
  {
   "cell_type": "code",
   "execution_count": 101,
   "id": "e519f6e2",
   "metadata": {},
   "outputs": [
    {
     "name": "stdout",
     "output_type": "stream",
     "text": [
      "0.48444444444444446\n"
     ]
    }
   ],
   "source": [
    "from sklearn.multiclass import OneVsOneClassifier\n",
    "\n",
    "train, test, y_train, y_test = train_test_split(scaled_numerical_data, target, test_size = 0.20, random_state = 500)\n",
    "\n",
    "model = OneVsOneClassifier(SVC())\n",
    "model_fit = model.fit(train, y_train)\n",
    "y_pred = model_fit.predict(test)\n",
    "acc = accuracy_score(y_test, y_pred)\n",
    "print(acc)"
   ]
  },
  {
   "cell_type": "code",
   "execution_count": 102,
   "id": "40a2501c",
   "metadata": {},
   "outputs": [],
   "source": [
    "accuracy.append(acc)\n",
    "condition.append('Normalized data')"
   ]
  },
  {
   "cell_type": "markdown",
   "id": "592691ea",
   "metadata": {},
   "source": [
    "Le pourcentage de réussite de nos prédictions a grandement évolué. Il est à ce jour le meilleur avec une valeur d'environ **0.484**. "
   ]
  },
  {
   "cell_type": "markdown",
   "id": "4d508728",
   "metadata": {},
   "source": [
    "<h1  style = \"font-size:20px; color : Green; text-align: left;\">Classification : Prédiction avec les données standardisées</h1>"
   ]
  },
  {
   "cell_type": "markdown",
   "id": "f1067554",
   "metadata": {},
   "source": [
    "Nous regardons aussi l'évolution de l'accuracy avec des données normalisées de façon standard."
   ]
  },
  {
   "cell_type": "code",
   "execution_count": 103,
   "id": "1a275049",
   "metadata": {},
   "outputs": [
    {
     "data": {
      "text/html": [
       "<div>\n",
       "<style scoped>\n",
       "    .dataframe tbody tr th:only-of-type {\n",
       "        vertical-align: middle;\n",
       "    }\n",
       "\n",
       "    .dataframe tbody tr th {\n",
       "        vertical-align: top;\n",
       "    }\n",
       "\n",
       "    .dataframe thead th {\n",
       "        text-align: right;\n",
       "    }\n",
       "</style>\n",
       "<table border=\"1\" class=\"dataframe\">\n",
       "  <thead>\n",
       "    <tr style=\"text-align: right;\">\n",
       "      <th></th>\n",
       "      <th>danceability</th>\n",
       "      <th>energy</th>\n",
       "      <th>loudness</th>\n",
       "      <th>mode</th>\n",
       "      <th>speechiness</th>\n",
       "      <th>acousticness</th>\n",
       "      <th>liveness</th>\n",
       "      <th>valence</th>\n",
       "      <th>tempo</th>\n",
       "      <th>duration_in min/ms</th>\n",
       "      <th>time_signature</th>\n",
       "    </tr>\n",
       "  </thead>\n",
       "  <tbody>\n",
       "    <tr>\n",
       "      <th>count</th>\n",
       "      <td>1.799600e+04</td>\n",
       "      <td>1.799600e+04</td>\n",
       "      <td>1.799600e+04</td>\n",
       "      <td>1.799600e+04</td>\n",
       "      <td>1.799600e+04</td>\n",
       "      <td>1.799600e+04</td>\n",
       "      <td>1.799600e+04</td>\n",
       "      <td>1.799600e+04</td>\n",
       "      <td>1.799600e+04</td>\n",
       "      <td>1.799600e+04</td>\n",
       "      <td>1.799600e+04</td>\n",
       "    </tr>\n",
       "    <tr>\n",
       "      <th>mean</th>\n",
       "      <td>-4.935421e-16</td>\n",
       "      <td>1.883357e-16</td>\n",
       "      <td>2.037342e-16</td>\n",
       "      <td>-5.725089e-17</td>\n",
       "      <td>-8.844275e-17</td>\n",
       "      <td>-4.422137e-17</td>\n",
       "      <td>7.896674e-17</td>\n",
       "      <td>-1.437195e-16</td>\n",
       "      <td>-1.054206e-16</td>\n",
       "      <td>-3.652212e-17</td>\n",
       "      <td>6.968815e-17</td>\n",
       "    </tr>\n",
       "    <tr>\n",
       "      <th>std</th>\n",
       "      <td>1.000000e+00</td>\n",
       "      <td>1.000000e+00</td>\n",
       "      <td>1.000000e+00</td>\n",
       "      <td>1.000000e+00</td>\n",
       "      <td>1.000000e+00</td>\n",
       "      <td>1.000000e+00</td>\n",
       "      <td>1.000000e+00</td>\n",
       "      <td>1.000000e+00</td>\n",
       "      <td>1.000000e+00</td>\n",
       "      <td>1.000000e+00</td>\n",
       "      <td>1.000000e+00</td>\n",
       "    </tr>\n",
       "    <tr>\n",
       "      <th>min</th>\n",
       "      <td>-2.909952e+00</td>\n",
       "      <td>-2.815766e+00</td>\n",
       "      <td>-7.913101e+00</td>\n",
       "      <td>-1.323951e+00</td>\n",
       "      <td>-6.844902e-01</td>\n",
       "      <td>-7.954154e-01</td>\n",
       "      <td>-1.157389e+00</td>\n",
       "      <td>-1.948034e+00</td>\n",
       "      <td>-3.113343e+00</td>\n",
       "      <td>-1.792531e+00</td>\n",
       "      <td>-8.085991e+00</td>\n",
       "    </tr>\n",
       "    <tr>\n",
       "      <th>25%</th>\n",
       "      <td>-6.702005e-01</td>\n",
       "      <td>-6.533311e-01</td>\n",
       "      <td>-4.018967e-01</td>\n",
       "      <td>-1.323951e+00</td>\n",
       "      <td>-5.373189e-01</td>\n",
       "      <td>-7.815727e-01</td>\n",
       "      <td>-6.197404e-01</td>\n",
       "      <td>-7.877278e-01</td>\n",
       "      <td>-7.778612e-01</td>\n",
       "      <td>-3.072393e-01</td>\n",
       "      <td>2.100597e-01</td>\n",
       "    </tr>\n",
       "    <tr>\n",
       "      <th>50%</th>\n",
       "      <td>9.423202e-03</td>\n",
       "      <td>1.581456e-01</td>\n",
       "      <td>2.209500e-01</td>\n",
       "      <td>7.552728e-01</td>\n",
       "      <td>-3.865580e-01</td>\n",
       "      <td>-5.333692e-01</td>\n",
       "      <td>-4.218906e-01</td>\n",
       "      <td>-2.168440e-02</td>\n",
       "      <td>-8.649516e-02</td>\n",
       "      <td>7.514606e-02</td>\n",
       "      <td>2.100597e-01</td>\n",
       "    </tr>\n",
       "    <tr>\n",
       "      <th>75%</th>\n",
       "      <td>6.950613e-01</td>\n",
       "      <td>8.379166e-01</td>\n",
       "      <td>6.721557e-01</td>\n",
       "      <td>7.552728e-01</td>\n",
       "      <td>3.940128e-02</td>\n",
       "      <td>6.017351e-01</td>\n",
       "      <td>3.883515e-01</td>\n",
       "      <td>7.735020e-01</td>\n",
       "      <td>6.542089e-01</td>\n",
       "      <td>4.620586e-01</td>\n",
       "      <td>2.100597e-01</td>\n",
       "    </tr>\n",
       "    <tr>\n",
       "      <th>max</th>\n",
       "      <td>2.679803e+00</td>\n",
       "      <td>1.432716e+00</td>\n",
       "      <td>2.288297e+00</td>\n",
       "      <td>7.552728e-01</td>\n",
       "      <td>1.047301e+01</td>\n",
       "      <td>2.410949e+00</td>\n",
       "      <td>5.048814e+00</td>\n",
       "      <td>2.080772e+00</td>\n",
       "      <td>3.205540e+00</td>\n",
       "      <td>1.139791e+01</td>\n",
       "      <td>2.975410e+00</td>\n",
       "    </tr>\n",
       "  </tbody>\n",
       "</table>\n",
       "</div>"
      ],
      "text/plain": [
       "       danceability        energy      loudness          mode   speechiness  \\\n",
       "count  1.799600e+04  1.799600e+04  1.799600e+04  1.799600e+04  1.799600e+04   \n",
       "mean  -4.935421e-16  1.883357e-16  2.037342e-16 -5.725089e-17 -8.844275e-17   \n",
       "std    1.000000e+00  1.000000e+00  1.000000e+00  1.000000e+00  1.000000e+00   \n",
       "min   -2.909952e+00 -2.815766e+00 -7.913101e+00 -1.323951e+00 -6.844902e-01   \n",
       "25%   -6.702005e-01 -6.533311e-01 -4.018967e-01 -1.323951e+00 -5.373189e-01   \n",
       "50%    9.423202e-03  1.581456e-01  2.209500e-01  7.552728e-01 -3.865580e-01   \n",
       "75%    6.950613e-01  8.379166e-01  6.721557e-01  7.552728e-01  3.940128e-02   \n",
       "max    2.679803e+00  1.432716e+00  2.288297e+00  7.552728e-01  1.047301e+01   \n",
       "\n",
       "       acousticness      liveness       valence         tempo  \\\n",
       "count  1.799600e+04  1.799600e+04  1.799600e+04  1.799600e+04   \n",
       "mean  -4.422137e-17  7.896674e-17 -1.437195e-16 -1.054206e-16   \n",
       "std    1.000000e+00  1.000000e+00  1.000000e+00  1.000000e+00   \n",
       "min   -7.954154e-01 -1.157389e+00 -1.948034e+00 -3.113343e+00   \n",
       "25%   -7.815727e-01 -6.197404e-01 -7.877278e-01 -7.778612e-01   \n",
       "50%   -5.333692e-01 -4.218906e-01 -2.168440e-02 -8.649516e-02   \n",
       "75%    6.017351e-01  3.883515e-01  7.735020e-01  6.542089e-01   \n",
       "max    2.410949e+00  5.048814e+00  2.080772e+00  3.205540e+00   \n",
       "\n",
       "       duration_in min/ms  time_signature  \n",
       "count        1.799600e+04    1.799600e+04  \n",
       "mean        -3.652212e-17    6.968815e-17  \n",
       "std          1.000000e+00    1.000000e+00  \n",
       "min         -1.792531e+00   -8.085991e+00  \n",
       "25%         -3.072393e-01    2.100597e-01  \n",
       "50%          7.514606e-02    2.100597e-01  \n",
       "75%          4.620586e-01    2.100597e-01  \n",
       "max          1.139791e+01    2.975410e+00  "
      ]
     },
     "execution_count": 103,
     "metadata": {},
     "output_type": "execute_result"
    }
   ],
   "source": [
    "def standardization(data: pd.DataFrame, data_mean: pd.Series = None, data_std: pd.Series = None) -> pd.DataFrame:\n",
    "    \"\"\"\n",
    "    Normalize a DataFrame using a standard normalization.\n",
    "    \"\"\"\n",
    "    \n",
    "    if data_mean is None:\n",
    "        mean = data.mean(axis = 0) \n",
    "    if data_std is None:\n",
    "        std = data.std(axis = 0)\n",
    "    \n",
    "    return (data - mean)/std  \n",
    "\n",
    "\n",
    "# Standardize\n",
    "standardized_numerical_data = standardization(numbers_data)  \n",
    "\n",
    "# Verify\n",
    "standardized_numerical_data.describe()"
   ]
  },
  {
   "cell_type": "markdown",
   "id": "6d58154d",
   "metadata": {},
   "source": [
    "Nous effectuons à nouveau l'entraînement du modèle."
   ]
  },
  {
   "cell_type": "code",
   "execution_count": 104,
   "id": "73958f0c",
   "metadata": {},
   "outputs": [
    {
     "name": "stdout",
     "output_type": "stream",
     "text": [
      "0.49777777777777776\n"
     ]
    }
   ],
   "source": [
    "train, test, y_train, y_test = train_test_split(standardized_numerical_data, target, test_size = 0.20, random_state =500)\n",
    "\n",
    "model = OneVsOneClassifier(SVC())\n",
    "model_fit = model.fit(train, y_train)\n",
    "y_pred = model_fit.predict(test)\n",
    "acc = accuracy_score(y_test, y_pred)\n",
    "print(acc)"
   ]
  },
  {
   "cell_type": "code",
   "execution_count": 105,
   "id": "d9a166c9",
   "metadata": {},
   "outputs": [],
   "source": [
    "accuracy.append(acc)\n",
    "condition.append('Standardized data')"
   ]
  },
  {
   "cell_type": "markdown",
   "id": "7aeadafb",
   "metadata": {},
   "source": [
    "L'accuracy a à nouveau augmenté (bien que légèrement) avec cette méthode. Elle avoisine presque les **50%** de réussite.  \n",
    "La normalisation standard ayant bien marché, nous utiliserons dans la suite les datasets associés à cette normalisation."
   ]
  },
  {
   "cell_type": "markdown",
   "id": "28129628",
   "metadata": {},
   "source": [
    "<h1  style = \"font-size:20px; color : Green; text-align: left;\">Classification : Utilisation de la méthode PCA</h1>"
   ]
  },
  {
   "cell_type": "markdown",
   "id": "01308359",
   "metadata": {},
   "source": [
    "Enfin, la dernière méthode que l'on peut utiliser pour essayer d'optimiser nos résultats et la méthode **PCA : Principal Component Analysis**.  \n",
    "La méthode PCAest une technique d'apprentissage non supervisé permettant de réduire la dimensionnalité des données. Elle augmente l'interprétabilité tout en minimisant la perte d'information. Elle permet aussi de trouver les caractéristiques les plus significatives du set de données. "
   ]
  },
  {
   "cell_type": "code",
   "execution_count": 106,
   "id": "a845cf6b",
   "metadata": {},
   "outputs": [],
   "source": [
    "from sklearn.decomposition import PCA\n",
    "\n",
    "#Réduction de dimensionalité\n",
    "pca = PCA(.95)\n",
    "\n",
    "#Application PCA\n",
    "model_fit = pca.fit(train)"
   ]
  },
  {
   "cell_type": "code",
   "execution_count": 107,
   "id": "4e104230",
   "metadata": {},
   "outputs": [],
   "source": [
    "#Définition des nouveaux sous datasets \n",
    "train_nv = pca.transform(train)\n",
    "test_nv = pca.transform(test)"
   ]
  },
  {
   "cell_type": "code",
   "execution_count": 108,
   "id": "d90ea9d3",
   "metadata": {},
   "outputs": [
    {
     "name": "stdout",
     "output_type": "stream",
     "text": [
      "0.48305555555555557\n"
     ]
    }
   ],
   "source": [
    "model = OneVsOneClassifier(SVC())\n",
    "model_fit = model.fit(train_nv, y_train)\n",
    "y_pred = model_fit.predict(test_nv)\n",
    "acc = accuracy_score(y_test, y_pred)\n",
    "print(acc)"
   ]
  },
  {
   "cell_type": "code",
   "execution_count": 109,
   "id": "81f46ae0",
   "metadata": {},
   "outputs": [],
   "source": [
    "accuracy.append(acc)\n",
    "condition.append('Using of PCA')"
   ]
  },
  {
   "cell_type": "markdown",
   "id": "4e774b65",
   "metadata": {},
   "source": [
    "Pour le coup, l'accuracy avec l'usage de PCA est à peine plus basse. La meilleure façon d'optimiser notre modèle reste pour l'instant l'utilisation de données avec une normalisation standard et l'usage de la méthode *OneVsOne*."
   ]
  },
  {
   "cell_type": "markdown",
   "id": "5c59df05",
   "metadata": {},
   "source": [
    "<h1  style = \"font-size:20px; color : Green; text-align: left;\">Classification : Utilisation d'un autre modèle</h1>"
   ]
  },
  {
   "cell_type": "markdown",
   "id": "508defa1",
   "metadata": {},
   "source": [
    "Par curiosité et afin de voir si les prédictions pouvaient encore être améliorées, nous avons utilisé des modèles différents pour observer les résultats."
   ]
  },
  {
   "cell_type": "code",
   "execution_count": 118,
   "id": "2ebaa4bb",
   "metadata": {},
   "outputs": [
    {
     "name": "stdout",
     "output_type": "stream",
     "text": [
      "0.5027777777777778\n"
     ]
    }
   ],
   "source": [
    "from sklearn.ensemble import GradientBoostingClassifier\n",
    "model = GradientBoostingClassifier()\n",
    "model_fit = model.fit(train, y_train)\n",
    "y_pred = model_fit.predict(test)\n",
    "acc = accuracy_score(y_test, y_pred)\n",
    "print(acc)"
   ]
  },
  {
   "cell_type": "code",
   "execution_count": 119,
   "id": "da44c521",
   "metadata": {},
   "outputs": [],
   "source": [
    "accuracy.append(acc)\n",
    "condition.append('GradientBoostingClassifier')"
   ]
  },
  {
   "cell_type": "code",
   "execution_count": 120,
   "id": "3bb5fa55",
   "metadata": {},
   "outputs": [
    {
     "name": "stdout",
     "output_type": "stream",
     "text": [
      "0.3386111111111111\n"
     ]
    }
   ],
   "source": [
    "from sklearn.tree import DecisionTreeClassifier\n",
    "model = DecisionTreeClassifier()\n",
    "model_fit = model.fit(train, y_train)\n",
    "y_pred = model_fit.predict(test)\n",
    "acc = accuracy_score(y_test, y_pred)\n",
    "print(acc)"
   ]
  },
  {
   "cell_type": "code",
   "execution_count": 121,
   "id": "e97b8779",
   "metadata": {},
   "outputs": [],
   "source": [
    "accuracy.append(acc)\n",
    "condition.append('DecisionTreeClassifier')"
   ]
  },
  {
   "cell_type": "code",
   "execution_count": 122,
   "id": "d4ad583c",
   "metadata": {},
   "outputs": [
    {
     "name": "stdout",
     "output_type": "stream",
     "text": [
      "0.4633333333333333\n"
     ]
    }
   ],
   "source": [
    "from sklearn.ensemble import RandomForestClassifier\n",
    "model = RandomForestClassifier()\n",
    "model_fit = model.fit(train, y_train)\n",
    "y_pred = model_fit.predict(test)\n",
    "acc = accuracy_score(y_test, y_pred)\n",
    "print(acc)"
   ]
  },
  {
   "cell_type": "code",
   "execution_count": 123,
   "id": "ab060572",
   "metadata": {},
   "outputs": [],
   "source": [
    "accuracy.append(acc)\n",
    "condition.append('RandomForestClassifier')"
   ]
  },
  {
   "cell_type": "markdown",
   "id": "a162b0dd",
   "metadata": {},
   "source": [
    "<h1  style = \"font-size:40px;background-color: Black ; color : White; text-align: center; border-radius: 20px 20px;\"> Interprétation des résultats</h1>"
   ]
  },
  {
   "cell_type": "markdown",
   "id": "08c96eb8",
   "metadata": {},
   "source": [
    "Après une phase d'entraînement assez longue, nous pouvons affirmer que les meilleures prédictions obtenues (mais pas non plus excellentes) proviennent du modèle **GradientBoostingClassifier** et utilisant les données qui suivent une **normalisation standard**."
   ]
  },
  {
   "cell_type": "code",
   "execution_count": 124,
   "id": "04719892",
   "metadata": {},
   "outputs": [],
   "source": [
    "from sklearn.ensemble import GradientBoostingClassifier\n",
    "model = GradientBoostingClassifier()\n",
    "model_fit = model.fit(train, y_train)\n",
    "y_pred = model_fit.predict(test)\n",
    "acc = accuracy_score(y_test, y_pred)"
   ]
  },
  {
   "cell_type": "markdown",
   "id": "bc548188",
   "metadata": {},
   "source": [
    "<h1  style = \"font-size:20px; color : Green; text-align: left;\">Interprétation des résultats : Courbe comparative</h1>"
   ]
  },
  {
   "cell_type": "markdown",
   "id": "31039074",
   "metadata": {},
   "source": [
    "Nous affichons sous la forme d'une courbe les différentes accuracy obtenues."
   ]
  },
  {
   "cell_type": "code",
   "execution_count": 135,
   "id": "56bbdfe8",
   "metadata": {},
   "outputs": [
    {
     "data": {
      "text/plain": [
       "Text(0, 0.5, 'méthodes utilisées')"
      ]
     },
     "execution_count": 135,
     "metadata": {},
     "output_type": "execute_result"
    },
    {
     "data": {
      "image/png": "[encoded data removed]",
      "text/plain": [
       "<Figure size 640x480 with 1 Axes>"
      ]
     },
     "metadata": {},
     "output_type": "display_data"
    }
   ],
   "source": [
    "from matplotlib import pyplot as plt\n",
    "plt.plot(accuracy, condition, 'mo', linestyle = '-')\n",
    "plt.title('Courbe comparative de l évolution de l accuracy en fonction des méthodes utilisées')\n",
    "plt.xlabel('accuracy')\n",
    "plt.ylabel('méthodes utilisées')"
   ]
  },
  {
   "cell_type": "markdown",
   "id": "2c52c3cb",
   "metadata": {},
   "source": [
    "Par souci de chevauchement des étiquettes des méthodes, nous affichons notre graphique ainsi, bien que ce ne soit pas standard.  \n",
    "Nous pouvons ainsi voir l'évolution de notre accuracy."
   ]
  },
  {
   "cell_type": "markdown",
   "id": "8cf1ae34",
   "metadata": {},
   "source": [
    "Enfin, nous allons afficher la matrice de corrélation et la matrice de confusion de ce dataset."
   ]
  },
  {
   "cell_type": "markdown",
   "id": "46f1641a",
   "metadata": {},
   "source": [
    "<h1  style = \"font-size:20px; color : Green; text-align: left;\">Interprétation des résultats : Matrice de corrélation</h1>"
   ]
  },
  {
   "cell_type": "code",
   "execution_count": 137,
   "id": "fdd8520c",
   "metadata": {},
   "outputs": [
    {
     "data": {
      "image/png": "[encoded data removed]",
      "text/plain": [
       "<Figure size 640x480 with 2 Axes>"
      ]
     },
     "metadata": {},
     "output_type": "display_data"
    }
   ],
   "source": [
    "import seaborn as sn\n",
    "\n",
    "#Création de la matrice de corrélation\n",
    "corr_matrix = standardized_numerical_data.corr()\n",
    "sn.heatmap(corr_matrix, annot=True)\n",
    "plt.show()\n"
   ]
  },
  {
   "cell_type": "markdown",
   "id": "c4a7d657",
   "metadata": {},
   "source": [
    "Comme nous pouvons le constater ci-dessus, les features *loudness* et *energy* sont corrélées. Cela est plutôt cohérent car une une musique pouvant être qualifiée \"d'énergique\" a souvent une intensité sonore élevée.  \n",
    "Les features *acousticness* et *energy* ainsi que *acousticness* et *loudness* sont faiblement corrélées. En effet, une musique utilisant une composition musicale accoutique est en règle générale, identifiée comme une musique douce ou une balade. Cela veut forcément dire que l'énergie et l'intensité sonore de la chanson sera plus faible."
   ]
  },
  {
   "cell_type": "markdown",
   "id": "fe741a52",
   "metadata": {},
   "source": [
    "<h1  style = \"font-size:20px; color : Green; text-align: left;\">Interprétation des résultats : Matrice de confusion</h1>"
   ]
  },
  {
   "cell_type": "code",
   "execution_count": 139,
   "id": "45dd61ce",
   "metadata": {},
   "outputs": [
    {
     "data": {
      "image/png": "[encoded data removed]",
      "text/plain": [
       "<Figure size 640x480 with 2 Axes>"
      ]
     },
     "metadata": {},
     "output_type": "display_data"
    }
   ],
   "source": [
    "from sklearn.metrics import confusion_matrix\n",
    "\n",
    "#Définition de la matrice de confusion\n",
    "cm = confusion_matrix(y_test, y_pred)\n",
    "sn.heatmap(cm, annot=True)\n",
    "plt.show()"
   ]
  },
  {
   "cell_type": "code",
   "execution_count": 155,
   "id": "87f5e5d4",
   "metadata": {},
   "outputs": [
    {
     "name": "stdout",
     "output_type": "stream",
     "text": [
      "Pour la classe 0: \n",
      " faux positifs = 62, faux négatifs = 32, vrais positifs = 89 et vrais négatifs = 3417.\n",
      "Le pourcentage de fausses prédictions pour chaque classe vaut 2.611111111111111 %.\n",
      "Pour la classe 1: \n",
      " faux positifs = 12, faux négatifs = 287, vrais positifs = 3 et vrais négatifs = 3298.\n",
      "Le pourcentage de fausses prédictions pour chaque classe vaut 8.305555555555555 %.\n",
      "Pour la classe 2: \n",
      " faux positifs = 96, faux négatifs = 184, vrais positifs = 71 et vrais négatifs = 3249.\n",
      "Le pourcentage de fausses prédictions pour chaque classe vaut 7.777777777777778 %.\n",
      "Pour la classe 3: \n",
      " faux positifs = 14, faux négatifs = 21, vrais positifs = 69 et vrais négatifs = 3496.\n",
      "Le pourcentage de fausses prédictions pour chaque classe vaut 0.9722222222222222 %.\n",
      "Pour la classe 4: \n",
      " faux positifs = 36, faux négatifs = 37, vrais positifs = 43 et vrais négatifs = 3484.\n",
      "Le pourcentage de fausses prédictions pour chaque classe vaut 2.0277777777777777 %.\n",
      "Pour la classe 5: \n",
      " faux positifs = 121, faux négatifs = 72, vrais positifs = 210 et vrais négatifs = 3197.\n",
      "Le pourcentage de fausses prédictions pour chaque classe vaut 5.361111111111111 %.\n",
      "Pour la classe 6: \n",
      " faux positifs = 129, faux négatifs = 440, vrais positifs = 94 et vrais négatifs = 2937.\n",
      "Le pourcentage de fausses prédictions pour chaque classe vaut 15.805555555555555 %.\n",
      "Pour la classe 7: \n",
      " faux positifs = 18, faux négatifs = 11, vrais positifs = 91 et vrais négatifs = 3480.\n",
      "Le pourcentage de fausses prédictions pour chaque classe vaut 0.8055555555555556 %.\n",
      "Pour la classe 8: \n",
      " faux positifs = 116, faux négatifs = 163, vrais positifs = 201 et vrais négatifs = 3120.\n",
      "Le pourcentage de fausses prédictions pour chaque classe vaut 7.75 %.\n",
      "Pour la classe 9: \n",
      " faux positifs = 305, faux négatifs = 249, vrais positifs = 225 et vrais négatifs = 2821.\n",
      "Le pourcentage de fausses prédictions pour chaque classe vaut 15.38888888888889 %.\n",
      "Pour la classe 10: \n",
      " faux positifs = 880, faux négatifs = 293, vrais positifs = 715 et vrais négatifs = 1712.\n",
      "Le pourcentage de fausses prédictions pour chaque classe vaut 32.583333333333336 %.\n"
     ]
    }
   ],
   "source": [
    "#Définition des faux positifs\n",
    "FP = cm.sum(axis=0) - np.diag(cm) \n",
    "\n",
    "#Définition des faux négatifs\n",
    "FN = cm.sum(axis=1) - np.diag(cm)\n",
    "\n",
    "#Définition des vrais positifs\n",
    "TP = np.diag(cm)\n",
    "\n",
    "#Définition des vrais négatifs\n",
    "TN = cm.sum() - (FP + FN + TP)\n",
    "\n",
    "for i in range(len(FP)):\n",
    "    print(f'Pour la classe {i}: \\n faux positifs = {FP[i]}, faux négatifs = {FN[i]}, vrais positifs = {TP[i]} et vrais négatifs = {TN[i]}.')\n",
    "    print(f'Le pourcentage de fausses prédictions pour chaque classe vaut {100 * (FP[i] + FN[i]) /(FP[i] + FN[i] +TP[i] + TN[i])} %.')"
   ]
  },
  {
   "cell_type": "markdown",
   "id": "7eb6dece",
   "metadata": {},
   "source": [
    "On constate que les classes ayant un taux de prédiction faux le plus élevé sont les classes 6, 9 et 10. Ce sont également les trois classes les plus représentées dans le dataset comme nous avons pu le voir précédemment.  \n",
    "En revanche, les classes 0, 3 et 7 ont un très faible taux de prédictions fausses."
   ]
  }
 ],
 "metadata": {
  "kernelspec": {
   "display_name": "aibt",
   "language": "python",
   "name": "aibt"
  },
  "language_info": {
   "codemirror_mode": {
    "name": "ipython",
    "version": 3
   },
   "file_extension": ".py",
   "mimetype": "text/x-python",
   "name": "python",
   "nbconvert_exporter": "python",
   "pygments_lexer": "ipython3",
   "version": "3.9.13"
  }
 },
 "nbformat": 4,
 "nbformat_minor": 5
}
