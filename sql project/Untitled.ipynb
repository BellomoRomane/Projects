{
 "cells": [
  {
   "cell_type": "code",
   "execution_count": 1,
   "id": "3a297823",
   "metadata": {},
   "outputs": [
    {
     "ename": "NoSectionError",
     "evalue": "No section: 'default'",
     "output_type": "error",
     "traceback": [
      "\u001b[1;31m---------------------------------------------------------------------------\u001b[0m",
      "\u001b[1;31mNoSectionError\u001b[0m                            Traceback (most recent call last)",
      "Cell \u001b[1;32mIn[1], line 21\u001b[0m\n\u001b[0;32m     15\u001b[0m server \u001b[38;5;241m=\u001b[39m \u001b[38;5;124m'\u001b[39m\u001b[38;5;124mexample-mssql.dev.anaconda.com\u001b[39m\u001b[38;5;124m'\u001b[39m\n\u001b[0;32m     16\u001b[0m database \u001b[38;5;241m=\u001b[39m \u001b[38;5;124m'\u001b[39m\u001b[38;5;124mSampleDB\u001b[39m\u001b[38;5;124m'\u001b[39m\n\u001b[0;32m     19\u001b[0m connection \u001b[38;5;241m=\u001b[39m pymssql\u001b[38;5;241m.\u001b[39mconnect(\n\u001b[0;32m     20\u001b[0m     server,\n\u001b[1;32m---> 21\u001b[0m     \u001b[43mconfig\u001b[49m\u001b[38;5;241;43m.\u001b[39;49m\u001b[43mget\u001b[49m\u001b[43m(\u001b[49m\u001b[38;5;124;43m'\u001b[39;49m\u001b[38;5;124;43mdefault\u001b[39;49m\u001b[38;5;124;43m'\u001b[39;49m\u001b[43m,\u001b[49m\u001b[43m \u001b[49m\u001b[38;5;124;43m'\u001b[39;49m\u001b[38;5;124;43musername\u001b[39;49m\u001b[38;5;124;43m'\u001b[39;49m\u001b[43m)\u001b[49m,\n\u001b[0;32m     22\u001b[0m     config\u001b[38;5;241m.\u001b[39mget(\u001b[38;5;124m'\u001b[39m\u001b[38;5;124mdefault\u001b[39m\u001b[38;5;124m'\u001b[39m, \u001b[38;5;124m'\u001b[39m\u001b[38;5;124mpassword\u001b[39m\u001b[38;5;124m'\u001b[39m),\n\u001b[0;32m     23\u001b[0m     database\n\u001b[0;32m     24\u001b[0m )\n\u001b[0;32m     26\u001b[0m cursor \u001b[38;5;241m=\u001b[39m connection\u001b[38;5;241m.\u001b[39mcursor()\n\u001b[0;32m     27\u001b[0m cursor\u001b[38;5;241m.\u001b[39mexecute(\u001b[38;5;124m\"\"\"\u001b[39m\n\u001b[0;32m     28\u001b[0m \u001b[38;5;124mSELECT TOP (10) [AddressID]\u001b[39m\n\u001b[0;32m     29\u001b[0m \u001b[38;5;124m  ,[AddressLine1]\u001b[39m\n\u001b[1;32m   (...)\u001b[0m\n\u001b[0;32m     37\u001b[0m \u001b[38;5;124mFROM [AdventureWorks2016].[Person].[Address]\u001b[39m\n\u001b[0;32m     38\u001b[0m \u001b[38;5;124m\"\"\"\u001b[39m)\n",
      "File \u001b[1;32m~\\anaconda3\\envs\\aibt_venv\\lib\\configparser.py:781\u001b[0m, in \u001b[0;36mRawConfigParser.get\u001b[1;34m(self, section, option, raw, vars, fallback)\u001b[0m\n\u001b[0;32m    766\u001b[0m \u001b[38;5;250m\u001b[39m\u001b[38;5;124;03m\"\"\"Get an option value for a given section.\u001b[39;00m\n\u001b[0;32m    767\u001b[0m \n\u001b[0;32m    768\u001b[0m \u001b[38;5;124;03mIf `vars' is provided, it must be a dictionary. The option is looked up\u001b[39;00m\n\u001b[1;32m   (...)\u001b[0m\n\u001b[0;32m    778\u001b[0m \u001b[38;5;124;03mThe section DEFAULT is special.\u001b[39;00m\n\u001b[0;32m    779\u001b[0m \u001b[38;5;124;03m\"\"\"\u001b[39;00m\n\u001b[0;32m    780\u001b[0m \u001b[38;5;28;01mtry\u001b[39;00m:\n\u001b[1;32m--> 781\u001b[0m     d \u001b[38;5;241m=\u001b[39m \u001b[38;5;28;43mself\u001b[39;49m\u001b[38;5;241;43m.\u001b[39;49m\u001b[43m_unify_values\u001b[49m\u001b[43m(\u001b[49m\u001b[43msection\u001b[49m\u001b[43m,\u001b[49m\u001b[43m \u001b[49m\u001b[38;5;28;43mvars\u001b[39;49m\u001b[43m)\u001b[49m\n\u001b[0;32m    782\u001b[0m \u001b[38;5;28;01mexcept\u001b[39;00m NoSectionError:\n\u001b[0;32m    783\u001b[0m     \u001b[38;5;28;01mif\u001b[39;00m fallback \u001b[38;5;129;01mis\u001b[39;00m _UNSET:\n",
      "File \u001b[1;32m~\\anaconda3\\envs\\aibt_venv\\lib\\configparser.py:1152\u001b[0m, in \u001b[0;36mRawConfigParser._unify_values\u001b[1;34m(self, section, vars)\u001b[0m\n\u001b[0;32m   1150\u001b[0m \u001b[38;5;28;01mexcept\u001b[39;00m \u001b[38;5;167;01mKeyError\u001b[39;00m:\n\u001b[0;32m   1151\u001b[0m     \u001b[38;5;28;01mif\u001b[39;00m section \u001b[38;5;241m!=\u001b[39m \u001b[38;5;28mself\u001b[39m\u001b[38;5;241m.\u001b[39mdefault_section:\n\u001b[1;32m-> 1152\u001b[0m         \u001b[38;5;28;01mraise\u001b[39;00m NoSectionError(section) \u001b[38;5;28;01mfrom\u001b[39;00m \u001b[38;5;28mNone\u001b[39m\n\u001b[0;32m   1153\u001b[0m \u001b[38;5;66;03m# Update with the entry specific variables\u001b[39;00m\n\u001b[0;32m   1154\u001b[0m vardict \u001b[38;5;241m=\u001b[39m {}\n",
      "\u001b[1;31mNoSectionError\u001b[0m: No section: 'default'"
     ]
    }
   ],
   "source": [
    "import pymssql\n",
    "import configparser\n",
    "\n",
    "\"\"\"\n",
    "Setup config parser and read Kubernetes secret .ini style credentials file. For example:\n",
    "\n",
    "[default]\n",
    "username=USERNAME\n",
    "password=PASSWORD\n",
    "\"\"\"\n",
    "config = configparser.ConfigParser()\n",
    "config.read('/var/run/secrets/user_credentials/mssql_credentials')\n",
    "\n",
    "\n",
    "server = 'example-mssql.dev.anaconda.com'\n",
    "database = 'SampleDB'\n",
    "\n",
    "\n",
    "connection = pymssql.connect(\n",
    "    server,\n",
    "    config.get('default', 'username'),\n",
    "    config.get('default', 'password'),\n",
    "    database\n",
    ")\n",
    "\n",
    "cursor = connection.cursor()\n",
    "cursor.execute(\"\"\"\n",
    "SELECT TOP (10) [AddressID]\n",
    "  ,[AddressLine1]\n",
    "  ,[AddressLine2]\n",
    "  ,[City]\n",
    "  ,[StateProvinceID]\n",
    "  ,[PostalCode]\n",
    "  ,[SpatialLocation]\n",
    "  ,[rowguid]\n",
    "  ,[ModifiedDate]\n",
    "FROM [AdventureWorks2016].[Person].[Address]\n",
    "\"\"\")\n",
    "\n",
    "row = cursor.fetchone()\n",
    "while row:\n",
    "    print(row)\n",
    "    row = cursor.fetchone()\n",
    "\n",
    "connection.close()"
   ]
  },
  {
   "cell_type": "code",
   "execution_count": null,
   "id": "dd9d181a",
   "metadata": {},
   "outputs": [],
   "source": []
  }
 ],
 "metadata": {
  "kernelspec": {
   "display_name": "aibt",
   "language": "python",
   "name": "aibt"
  },
  "language_info": {
   "codemirror_mode": {
    "name": "ipython",
    "version": 3
   },
   "file_extension": ".py",
   "mimetype": "text/x-python",
   "name": "python",
   "nbconvert_exporter": "python",
   "pygments_lexer": "ipython3",
   "version": "3.9.13"
  }
 },
 "nbformat": 4,
 "nbformat_minor": 5
}
