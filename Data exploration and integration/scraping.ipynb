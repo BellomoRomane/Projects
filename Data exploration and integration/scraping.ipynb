{
 "cells": [
  {
   "cell_type": "code",
   "execution_count": 1,
   "id": "ff32baa6",
   "metadata": {},
   "outputs": [],
   "source": [
    "import ssl\n",
    "import requests\n",
    "import urllib3\n",
    "import bs4\n",
    "from bs4 import BeautifulSoup\n",
    "import pandas as pd"
   ]
  },
  {
   "cell_type": "code",
   "execution_count": 2,
   "id": "2757a216",
   "metadata": {},
   "outputs": [
    {
     "name": "stderr",
     "output_type": "stream",
     "text": [
      "ERROR: Could not find a version that satisfies the requirement urllib (from versions: none)\n",
      "ERROR: No matching distribution found for urllib\n"
     ]
    }
   ],
   "source": [
    "!pip install urllib"
   ]
  },
  {
   "cell_type": "code",
   "execution_count": 3,
   "id": "36a9efed",
   "metadata": {},
   "outputs": [],
   "source": [
    "import urllib.request"
   ]
  },
  {
   "cell_type": "code",
   "execution_count": 4,
   "id": "d098cf2a",
   "metadata": {},
   "outputs": [],
   "source": [
    "# url = \"https://ebird.org/hotspot/L6422778?yr=all&m=&rank=mrec\"\n",
    "# ssl._create_default_https_context = ssl._create_unverified_context()\n",
    "\n",
    "# r = requests.get(url, auth=('r.bellomo', 'Pommite0512'))\n",
    "\n",
    "# result = urllib3.PoolManager().request('GET', url, headers=r.headers)"
   ]
  },
  {
   "cell_type": "code",
   "execution_count": 5,
   "id": "96a9f61b",
   "metadata": {},
   "outputs": [
    {
     "name": "stderr",
     "output_type": "stream",
     "text": [
      "C:\\Users\\33666\\anaconda3\\envs\\aibt_venv\\lib\\site-packages\\urllib3\\connectionpool.py:1045: InsecureRequestWarning: Unverified HTTPS request is being made to host 'ebird.org'. Adding certificate verification is strongly advised. See: https://urllib3.readthedocs.io/en/1.26.x/advanced-usage.html#ssl-warnings\n",
      "  warnings.warn(\n",
      "C:\\Users\\33666\\anaconda3\\envs\\aibt_venv\\lib\\site-packages\\urllib3\\connectionpool.py:1045: InsecureRequestWarning: Unverified HTTPS request is being made to host 'secure.birds.cornell.edu'. Adding certificate verification is strongly advised. See: https://urllib3.readthedocs.io/en/1.26.x/advanced-usage.html#ssl-warnings\n",
      "  warnings.warn(\n",
      "C:\\Users\\33666\\anaconda3\\envs\\aibt_venv\\lib\\site-packages\\urllib3\\connectionpool.py:1045: InsecureRequestWarning: Unverified HTTPS request is being made to host 'ebird.org'. Adding certificate verification is strongly advised. See: https://urllib3.readthedocs.io/en/1.26.x/advanced-usage.html#ssl-warnings\n",
      "  warnings.warn(\n",
      "C:\\Users\\33666\\anaconda3\\envs\\aibt_venv\\lib\\site-packages\\urllib3\\connectionpool.py:1045: InsecureRequestWarning: Unverified HTTPS request is being made to host 'ebird.org'. Adding certificate verification is strongly advised. See: https://urllib3.readthedocs.io/en/1.26.x/advanced-usage.html#ssl-warnings\n",
      "  warnings.warn(\n",
      "C:\\Users\\33666\\anaconda3\\envs\\aibt_venv\\lib\\site-packages\\urllib3\\connectionpool.py:1045: InsecureRequestWarning: Unverified HTTPS request is being made to host 'ebird.org'. Adding certificate verification is strongly advised. See: https://urllib3.readthedocs.io/en/1.26.x/advanced-usage.html#ssl-warnings\n",
      "  warnings.warn(\n"
     ]
    }
   ],
   "source": [
    "url = \"https://ebird.org/hotspot/L6422778?yr=all&m=&rank=mrec\"\n",
    "r = requests.get(url, auth=('r.bellomo', 'Pommite0512'), verify=False)\n",
    "\n",
    "# result = r.content"
   ]
  },
  {
   "cell_type": "code",
   "execution_count": 6,
   "id": "dbd47280",
   "metadata": {},
   "outputs": [],
   "source": [
    "page = r.content\n",
    "soup = BeautifulSoup(r.text, 'html.parser')"
   ]
  },
  {
   "cell_type": "code",
   "execution_count": null,
   "id": "198a852e",
   "metadata": {},
   "outputs": [],
   "source": [
    "espece = soup.find_all(\"span\", {\"class\" : \"Heading-main\"})\n",
    "species_list = pd.Series([species.string.strip() for species in espece])\n",
    "\n",
    "nb = soup.find_all(\"span\", {\"class\" : \"Observation-meta-count-label Color-text-neutral-4\"})\n",
    "quantities_list = pd.Series([quantities.string.strip() for quantities in nb])\n",
    "\n",
    "# date = soup.find_all('a', {'class': 'Observation-meta-date-label'})\n",
    "# dates_list = [dates.string.strip() for dates in date]\n",
    "# date_tag = soup.find('a', class_='Observation-meta-date-label')\n",
    "\n",
    "# # Extract the date text\n",
    "# date_text = date_tag.text.strip()\n",
    "\n",
    "# # Print the date text\n",
    "# print(date_text)\n",
    "person = soup.find_all(\"span\", {\"class\" : \"Observation-meta-observer-label\"})\n",
    "players_list = [player.string.strip() for player in person]\n"
   ]
  },
  {
   "cell_type": "code",
   "execution_count": null,
   "id": "f6221fa1",
   "metadata": {},
   "outputs": [],
   "source": [
    "players_list"
   ]
  },
  {
   "cell_type": "code",
   "execution_count": null,
   "id": "e12b05e9",
   "metadata": {},
   "outputs": [],
   "source": [
    "pd.concat([species_list, quantities_list], axis = 1)"
   ]
  },
  {
   "cell_type": "code",
   "execution_count": null,
   "id": "f4622e51",
   "metadata": {},
   "outputs": [],
   "source": [
    "date_div = soup.find('a', class_='Observation-meta-date-label')\n",
    "\n",
    "if date_div:\n",
    "    # Find the <a> tag within the date <div>\n",
    "    date_a_tag = date_div.find('div')\n",
    "    print(date_a_tag)\n",
    "    if date_a_tag:\n",
    "        # Extract the date text\n",
    "        date_text = date_a_tag.text.strip()\n",
    "\n",
    "        # Print the date text\n",
    "        print(date_text)"
   ]
  },
  {
   "cell_type": "code",
   "execution_count": null,
   "id": "34177a0c",
   "metadata": {},
   "outputs": [],
   "source": [
    "soup = BeautifulSoup(r.text, 'html.parser')\n",
    "date_span = soup.find('span', {'class': 'Observation-meta-date-label'})\n",
    "\n",
    "if date_span is not None:\n",
    "    date_text = date_span.text\n",
    "    print(date_text)\n",
    "else:\n",
    "    print('Date not found')"
   ]
  },
  {
   "cell_type": "code",
   "execution_count": null,
   "id": "f8cc71ab",
   "metadata": {},
   "outputs": [],
   "source": [
    "# dernières obs\n",
    "urls= [\"https://ebird.org/hotspot/L7261648?yr=all&m=&rank=mrec\", \"https://ebird.org/hotspot/L8818279?yr=all&m=&rank=mrec\", \"https://ebird.org/hotspot/L6687535?yr=all&m=&rank=mrec\",\n",
    "      \"https://ebird.org/hotspot/L22521293?yr=all&m=&rank=mrec\", \"https://ebird.org/hotspot/L20573171?yr=all&m=&rank=mrec\", \"https://ebird.org/hotspot/L3155113?yr=all&m=&rank=mrec\",\n",
    "      \"https://ebird.org/hotspot/L3151800?yr=all&m=&rank=mrec\", \"https://ebird.org/hotspot/L7589359?yr=all&m=&rank=mrec\", \"https://ebird.org/hotspot/L9826949?yr=all&m=&rank=mrec\",\n",
    "      \"https://ebird.org/hotspot/L8356182?yr=all&m=&rank=mrec\", \"https://ebird.org/hotspot/L7008280?yr=all&m=&rank=mrec\", \"https://ebird.org/hotspot/L10416586?yr=all&m=&rank=mrec\", \n",
    "      \"https://ebird.org/hotspot/L3215735?yr=all&m=&rank=mrec\", \"https://ebird.org/hotspot/L8816020?yr=all&m=&rank=mrec\", \"https://ebird.org/hotspot/L7986463?yr=all&m=&rank=mrec\", \n",
    "      \"https://ebird.org/hotspot/L6642767?yr=all&m=&rank=mrec\", \"https://ebird.org/hotspot/L4373709?yr=all&m=&rank=mrec\", \"https://ebird.org/hotspot/L6422778?yr=all&m=&rank=mrec\",\n",
    "      \"https://ebird.org/hotspot/L8226138?yr=all&m=&rank=mrec\", \"https://ebird.org/hotspot/L3152784?yr=all&m=&rank=mrec\", \"https://ebird.org/hotspot/L9067702?yr=all&m=&rank=mrec\", \n",
    "      \"https://ebird.org/hotspot/L3151817?yr=all&m=&rank=mrec\", \"https://ebird.org/hotspot/L2708081?yr=all&m=&rank=mrec\",\n",
    "      \"https://ebird.org/hotspot/L6439255?yr=all&m=&rank=mrec\", \"https://ebird.org/hotspot/L3901575?yr=all&m=&rank=mrec\", \"https://ebird.org/hotspot/L5239939?yr=all&m=&rank=mrec\",\n",
    "       \"https://ebird.org/hotspot/L6859772?yr=all&m=&rank=mrec\", \"https://ebird.org/hotspot/L2709994?yr=all&m=&rank=mrec\", \"https://ebird.org/hotspot/L4373716?yr=all&m=&rank=mrec\",\n",
    "       \"https://ebird.org/hotspot/L14309667?yr=all&m=&rank=mrec\", \"https://ebird.org/hotspot/L6755672?yr=all&m=&rank=mrec\", \"https://ebird.org/hotspot/L7054913?yr=all&m=&rank=mrec\",\n",
    "       \"https://ebird.org/hotspot/L14042371?yr=all&m=&rank=mrec\", \"https://ebird.org/hotspot/L8816003?yr=all&m=&rank=mrec\",  \"https://ebird.org/hotspot/L6044687?yr=all&m=&rank=mrec\",\n",
    "       \"https://ebird.org/hotspot/L20101871?yr=all&m=&rank=mrec\", \"https://ebird.org/hotspot/L3155096?yr=all&m=&rank=mrec\", \"https://ebird.org/hotspot/L5673712?yr=all&m=&rank=mrec\",\n",
    "       \"https://ebird.org/hotspot/L5802329?yr=all&m=&rank=mrec\", \"https://ebird.org/hotspot/L4342853?yr=all&m=&rank=mrec\", \"https://ebird.org/hotspot/L10199476?yr=all&m=&rank=mrec\",\n",
    "       \"https://ebird.org/hotspot/L12199811?yr=all&m=&rank=mrec\", \"https://ebird.org/hotspot/L12181262?yr=all&m=&rank=mrec\", \"https://ebird.org/hotspot/L6289357?yr=all&m=&rank=mrec\",\n",
    "       \"https://ebird.org/hotspot/L12181138?yr=all&m=&rank=mrec\",  \"https://ebird.org/hotspot/L17160788?yr=all&m=&rank=mrec\", \"https://ebird.org/hotspot/L3151478?yr=all&m=&rank=mrec\", \"https://ebird.org/hotspot/L8137014?yr=all&m=&rank=mrec\",\n",
    "        \"https://ebird.org/hotspot/L12480874?yr=all&m=&rank=mrec\", \"https://ebird.org/hotspot/L8080060?yr=all&m=&rank=mrec\", \"https://ebird.org/hotspot/L17078409?yr=all&m=&rank=mrec\", \n",
    "        \"https://ebird.org/hotspot/L13952267?yr=all&m=&rank=mrec\"\n",
    "      ]\n",
    "\n",
    "len(urls)"
   ]
  },
  {
   "cell_type": "code",
   "execution_count": null,
   "id": "9cdce04c",
   "metadata": {},
   "outputs": [],
   "source": [
    "#premières obs\n",
    "dates = [\"https://ebird.org/hotspot/L7261648?yr=all&m=&rank=lrec\", \"https://ebird.org/hotspot/L8818279?yr=all&m=&rank=lrec\", \"https://ebird.org/hotspot/L6687535?yr=all&m=&rank=lrec\",\n",
    "         \"https://ebird.org/hotspot/L22521293?yr=all&m=&rank=lrec\", \"https://ebird.org/hotspot/L20573171?yr=all&m=&rank=lrec\", \"https://ebird.org/hotspot/L3155113?yr=all&m=&rank=lrec\",\n",
    "         \"https://ebird.org/hotspot/L3151800?yr=all&m=&rank=lrec\", \"https://ebird.org/hotspot/L7589359?yr=all&m=&rank=lrec\", \"https://ebird.org/hotspot/L9826949?yr=all&m=&rank=lrec\",\n",
    "         \"https://ebird.org/hotspot/L8356182?yr=all&m=&rank=lrec\", \"https://ebird.org/hotspot/L7008280?yr=all&m=&rank=lrec\", \"https://ebird.org/hotspot/L10416586?yr=all&m=&rank=lrec\", \n",
    "         \"https://ebird.org/hotspot/L3215735?yr=all&m=&rank=lrec\", \"https://ebird.org/hotspot/L8816020?yr=all&m=&rank=lrec\", \"https://ebird.org/hotspot/L7986463?yr=all&m=&rank=lrec\",\n",
    "         \"https://ebird.org/hotspot/L6642767?yr=all&m=&rank=lrec\", \"https://ebird.org/hotspot/L4373709?yr=all&m=&rank=lrec\", \"https://ebird.org/hotspot/L6422778?yr=all&m=&rank=lrec\",\n",
    "         \"https://ebird.org/hotspot/L8226138?yr=all&m=&rank=lrec\", \"https://ebird.org/hotspot/L3152784?yr=all&m=&rank=lrec\", \"https://ebird.org/hotspot/L3151478?yr=all&m=&rank=mrec\", \"https://ebird.org/hotspot/L8137014?yr=all&m=&rank=mrec\" \n",
    "         \"\"\n",
    "         \n",
    "         \n",
    "         \n",
    "        ]"
   ]
  },
  {
   "cell_type": "code",
   "execution_count": null,
   "id": "c71f6357",
   "metadata": {},
   "outputs": [],
   "source": [
    "Lieux = [\"Parc de la Maourine\", \"Lac de Sesquières\", \"Ecluse de la Glacière\", \"Chemin de Garonne, Pont de Blagnac, Parc des Ramiers\",\n",
    "        \"Quartier de Négreneys\", \"Sept Deniers\", \"Château de Casselardit\", \"Pont périphérique A620\", \"Port de l'embouchure de Toulouse\",\n",
    "        \"Jardin de Compans-Cafarelli, Japonais\", \"Basilique Saint-Sernin\", \"Coulée verte des Amidonniers/Promenade du Bazacle\", \"Université Toulouse 1 Capitole\",\n",
    "         \"Square Charles de Gaulle\", \"Promenade du Bazacle\", \"Ecluse Saint-Pierre\", \"Jardin du Barry\", \"Jardin Raymond VI\", \"Passerelle Viguerie\",\n",
    "         \"Pont Saint-Pierre\", \"Pont Neuf\", \"Toec\", \"Prairie des Filtres\", \"Digue Saint-Michel\", \"Jardin Royal\", \"Jardin des Plantes\", \"Chaussée Saint-Michel\", \"Pont Saint-Michel\",\n",
    "        \"Parc de Fontaine Lestang\", \"La poudrière\", \"Jardin Niel\", \"Jardin public des Roseaux\", \"Bassin de rétention de Montaudran-Lespinet\", \"Lac de Gironis\", \"Parc Monlong\", \"Cugnaux\", \n",
    "        \"Langlade\", \"Pech David\", \"Ilôt des lapins\", \"CREPS - Toulouse\", \"Etang de Labege\", \"Mare d Auzeville\", \"Canal du Midi, Castanet-Tolosan\",\"Ferme des 50\", \"Résidence Bordegrande\",\n",
    "        \"Lac de Labège\", \"Parc du Confluent Garonne-Ariège\", \"Parc du Confluent Garonne-Ariège--Parking\", \"Bourlès\", \"Bassin de rétention de la Masquère\", \"Labège--ruisseau du Tricou\",\n",
    "        \"Fumas (Castanet-Tolozan)\"\n",
    "        \n",
    "        ]"
   ]
  },
  {
   "cell_type": "code",
   "execution_count": null,
   "id": "6aa720dd",
   "metadata": {},
   "outputs": [],
   "source": [
    "Latitude = [43.632722,43.652974, 43.647407,43.631207, 43.620506, 43.619093, 43.610826, 43.609070, 43.611374, 43.611260, 43.609161376953125, 43.606014, 43.605857, 43.604487,\n",
    "           43.604254, 43.60442352294922, 43.601606, 43.5996547, 43.6016189, 43.602252775813604, 43.599376990084, 43.59653258864069, 43.596293, 43.596293, 43.596157, 43.592435, \n",
    "           43.593201, 43.592844, 43.584778, 43.576861, 43.577756, 43.572607, 43.560929, 43.562472, 43.5563834, 43.5369936, 43.565472, 43.56644326670826, 43.56442307417064, 43.5680674,\n",
    "            43.55248389288548, 43.53447530106507, 43.532874, 43.5309798, 43.53833844080058,  43.537534730711535, 43.523879, 43.522303, 43.51413836344926, 43.519613, 43.534337, 43.518233 ]"
   ]
  },
  {
   "cell_type": "code",
   "execution_count": null,
   "id": "5807e81f",
   "metadata": {},
   "outputs": [],
   "source": [
    "Longitude = [1.453418, 1.418366, 1.423141, 1.401001, 1.441316, 1.412608, 1.406590, 1.411971, 1.417163, 1.432480,  1.441960334777832, 1.420902, 1.431300, 1.444884, 1.428701, \n",
    "             1.4340115785598755, 1.401548, 1.4296897, 1.4319788, 1.4348589674546863, 1.4392139180340813, 1.402748642728322, 1.437092, 1.434497, 1.450499, 1.449823, 1.441773, \n",
    "             1.438962, 1.421358, 1.429163, 1.445274, 1.459697, 1.491564,1.416465,1.3948569, 1.3457537, 1.427218, 1.4401395281484763, 1.4351727618408017, 1.476767, 1.4987224890645567, \n",
    "              1.4952297583252072, 1.505281, 1.4945911242889132, 1.4918603623082927, 1.5143836884577322, 1.417137, 1.421993, 1.4718415499962934, 1.530372, 1.545593, 1.488502 ]"
   ]
  },
  {
   "cell_type": "code",
   "execution_count": null,
   "id": "29d4e505",
   "metadata": {},
   "outputs": [],
   "source": [
    "compteur = 3\n",
    "lieux[compteur]"
   ]
  },
  {
   "cell_type": "code",
   "execution_count": null,
   "id": "86eb43db",
   "metadata": {},
   "outputs": [],
   "source": [
    "import pandas as pd\n",
    "\n",
    "all_data = pd.DataFrame()\n",
    "l = pd.DataFrame()\n",
    "compteur = 0\n",
    "for url in urls : \n",
    "    print(url)\n",
    "\n",
    "    r = requests.get(url, auth=('r.bellomo', 'Pommite0512'), verify=False)\n",
    "\n",
    "    page = r.content\n",
    "    soup = BeautifulSoup(r.text, 'html.parser')\n",
    "    \n",
    "    species = []\n",
    "    espece =  soup.find_all(\"span\", {\"class\" : \"Heading-main\"})\n",
    "    # print(len(espece))\n",
    "    species_list = pd.Series([species.string.strip() for species in espece], name = 'espèce')\n",
    "\n",
    "    # print(species_list)\n",
    "    \n",
    "    nb = soup.find_all(\"span\", {\"class\" : \"Observation-meta-count-label Color-text-neutral-4\"})\n",
    "    quantities_list =  pd.Series([quantities.string.strip() for quantities in nb], name = 'nombre d oiseaux apperçus')\n",
    "\n",
    "    data = pd.concat([species_list, quantities_list], axis = 1)\n",
    "\n",
    "    person = soup.find_all(\"span\", {\"class\" : \"Observation-meta-observer-label\"})\n",
    "    players_list =  pd.Series([player.string.strip() for player in person], name = 'joueur')\n",
    "    for p in players_list : \n",
    "        if p == 0:\n",
    "            species.remove(p)\n",
    "    # print(len(players_list))\n",
    "\n",
    "    data = pd.concat([data, players_list], axis = 1)\n",
    "\n",
    "    print(compteur)\n",
    "    l, lat, long = Lieux[compteur], Latitude[compteur], Longitude[compteur]\n",
    "    place, Lat, Long = [l], [lat], [long]\n",
    "    place, Lat, Long = place * len(person), Lat * len(person), Long * len(person)\n",
    "    place,  Lat, Long =  pd.Series(place, name = \"lieux\"), pd.Series(Lat, name = 'latitude'), pd.Series(Long, name = 'longitude')\n",
    "    data = pd.concat([data, place], axis = 1)\n",
    "    data = pd.concat([data, Lat], axis = 1)\n",
    "    data = pd.concat([data, Long], axis = 1)\n",
    "    # print(data)\n",
    "    all_data = pd.concat([all_data, data], axis = 0)\n",
    "    #l = pd.concat([l, place], axis = 1)\n",
    "    compteur += 1\n",
    "    print(compteur)\n",
    "    "
   ]
  },
  {
   "cell_type": "code",
   "execution_count": null,
   "id": "1bdf4dd7",
   "metadata": {},
   "outputs": [],
   "source": [
    "all_data"
   ]
  },
  {
   "cell_type": "code",
   "execution_count": null,
   "id": "16eb0561",
   "metadata": {},
   "outputs": [],
   "source": [
    "nombre = all_data['nombre d oiseaux apperçus']\n",
    "len(nombre)"
   ]
  },
  {
   "cell_type": "code",
   "execution_count": null,
   "id": "81ab41ac",
   "metadata": {},
   "outputs": [],
   "source": [
    "zero = [0]\n",
    "zero = pd.DataFrame(zero)\n",
    "zero"
   ]
  },
  {
   "cell_type": "code",
   "execution_count": null,
   "id": "1106dd8b",
   "metadata": {},
   "outputs": [],
   "source": [
    "all_data = pd.DataFrame(all_data)\n",
    "all_data"
   ]
  },
  {
   "cell_type": "code",
   "execution_count": null,
   "id": "3d3837b1",
   "metadata": {},
   "outputs": [],
   "source": [
    "nombre = pd.concat([zero, nombre], axis = 0)\n",
    "nombre = nombre.iloc[:-1]\n"
   ]
  },
  {
   "cell_type": "code",
   "execution_count": null,
   "id": "60a1bdea",
   "metadata": {},
   "outputs": [],
   "source": [
    "nombre = pd.DataFrame(nombre)"
   ]
  },
  {
   "cell_type": "code",
   "execution_count": null,
   "id": "628421db",
   "metadata": {},
   "outputs": [],
   "source": [
    "nombre = nombre.reset_index(drop=True)\n",
    "all_data = all_data.reset_index(drop=True)\n",
    "\n",
    "# concaténer les deux séries\n",
    "resultat = pd.concat([nombre, all_data], axis=1)\n",
    "pd.concat([all_data, nombre], axis = 1)"
   ]
  },
  {
   "cell_type": "code",
   "execution_count": null,
   "id": "39e4ac44",
   "metadata": {},
   "outputs": [],
   "source": [
    "all_data.to_csv('scrapping.csv', index=False)"
   ]
  }
 ],
 "metadata": {
  "kernelspec": {
   "display_name": "aibt",
   "language": "python",
   "name": "aibt"
  },
  "language_info": {
   "codemirror_mode": {
    "name": "ipython",
    "version": 3
   },
   "file_extension": ".py",
   "mimetype": "text/x-python",
   "name": "python",
   "nbconvert_exporter": "python",
   "pygments_lexer": "ipython3",
   "version": "3.9.13"
  }
 },
 "nbformat": 4,
 "nbformat_minor": 5
}
